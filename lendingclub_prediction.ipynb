{
  "nbformat": 4,
  "nbformat_minor": 0,
  "metadata": {
    "colab": {
      "name": "lendingclub_prediction.ipynb",
      "version": "0.3.2",
      "provenance": [],
      "collapsed_sections": []
    },
    "kernelspec": {
      "display_name": "Python 3",
      "language": "python",
      "name": "python3"
    },
    "accelerator": "GPU"
  },
  "cells": [
    {
      "metadata": {
        "_uuid": "95fd0bd0486a2b3639c532b0c5730a8364d83ec9",
        "colab_type": "text",
        "id": "TqYD5KakAwcy"
      },
      "cell_type": "markdown",
      "source": [
        "# Prediction of LendingClub loan defaulters\n",
        "#### RIHAD VARIAWA\n",
        "#### 09-03-2019\n",
        "\n",
        "The dataset used for this analysis can be found using the following [link](https://www.kaggle.com/wendykan/lending-club-loan-data)\n",
        "\n",
        "### About LendingClub:\n",
        "LendingClub is a US peer-to-peer lending company, headquartered in San Francisco, California. It was the first peer-to-peer lender to register its offerings as securities with the Securities and Exchange Commission (SEC), and to offer loan trading on a secondary market. Lending Club is the world's largest peer-to-peer lending platform.The company claims that $ 15.98 billion in loans had been originated through its platform up to December 31, 2015.\n",
        "\n",
        "Lending Club enables borrowers to create unsecured personal loans between $$1,000 and $ 40,000. The standard loan period is three years. Investors can search and browse the loan listings on Lending Club website and select loans that they want to invest in based on the information supplied about the borrower, amount of loan, loan grade, and loan purpose. Investors make money from interest. Lending Club makes money by charging borrowers an origination fee and investors a service fee.\n",
        "\n",
        "\n",
        "### About the Dataset\n",
        "These files contain complete loan data for all loans issued through the 2007-2015, including the current loan status (Current, Late, Fully Paid, etc.) and latest payment information. The file containing loan data through the \"present\" contains complete loan data for all loans issued through the previous completed calendar quarter. Additional features include credit scores, number of finance inquiries, address including zip codes, and state, and collections among others. The file is a matrix of about 890 thousand observations and 75 variables. A data dictionary is provided in a separate file. k\n",
        "\n",
        "### Purpose of this analysis\n",
        "Build a machine learning algorithm to predict loan defaulters based on certain variables present in the dataset, so we can correctly identifying defaulters (True positives) of  the lender **lending club** in order to consider whether existing borrowers  are fit for additional loans or not in the future.\n"
      ]
    },
    {
      "metadata": {
        "colab_type": "text",
        "id": "dmX7Bh8SKSaP"
      },
      "cell_type": "markdown",
      "source": [
        "## How Lending Club Works?\n",
        "<img src=\"http://echeck.org/wp-content/uploads/2016/12/Showing-how-the-lending-club-works-and-makes-money-1.png\">"
      ]
    },
    {
      "metadata": {
        "_uuid": "e08e625d4bd4f3884b79295e37163abfa8b458ec",
        "colab_type": "text",
        "id": "9uqGsK31Awcz"
      },
      "cell_type": "markdown",
      "source": [
        "### Loading Packages\n",
        "We will start by importing the packages that will be used throughout the analysis"
      ]
    },
    {
      "metadata": {
        "_uuid": "edce02b2d198e896f7b3a91760d8dafe6111cb4d",
        "colab_type": "code",
        "id": "wJF0JBdXAwc0",
        "colab": {}
      },
      "cell_type": "code",
      "source": [
        "# data manipulation and prepocessing\n",
        "import pandas as pd\n",
        "import numpy as np\n",
        "\n",
        "# data visualization\n",
        "import seaborn as sns\n",
        "import matplotlib.pyplot as plt\n",
        "%matplotlib inline\n",
        "from sklearn.model_selection import train_test_split\n",
        "from sklearn.model_selection import cross_val_score\n",
        "from sklearn.model_selection import GridSearchCV\n",
        "from sklearn.preprocessing import StandardScaler\n",
        "from sklearn.metrics import confusion_matrix\n",
        "from sklearn.metrics import roc_auc_score\n",
        "from sklearn.metrics import roc_curve\n",
        "from scipy.stats import boxcox"
      ],
      "execution_count": 0,
      "outputs": []
    },
    {
      "metadata": {
        "_uuid": "6d8e0238e9700d35f850eec1e0fc15bc15b5734e",
        "colab_type": "code",
        "id": "x6JpxsQZAwc4",
        "outputId": "fa581cdf-4b25-42e9-ee63-3dd30000077f",
        "colab": {}
      },
      "cell_type": "code",
      "source": [
        "# read the dataset\n",
        "df = pd.read_csv('../lending_club/loan.csv.zip', low_memory=False)\n",
        "df.head(5)"
      ],
      "execution_count": 0,
      "outputs": [
        {
          "output_type": "execute_result",
          "data": {
            "text/html": [
              "<div>\n",
              "<style scoped>\n",
              "    .dataframe tbody tr th:only-of-type {\n",
              "        vertical-align: middle;\n",
              "    }\n",
              "\n",
              "    .dataframe tbody tr th {\n",
              "        vertical-align: top;\n",
              "    }\n",
              "\n",
              "    .dataframe thead th {\n",
              "        text-align: right;\n",
              "    }\n",
              "</style>\n",
              "<table border=\"1\" class=\"dataframe\">\n",
              "  <thead>\n",
              "    <tr style=\"text-align: right;\">\n",
              "      <th></th>\n",
              "      <th>id</th>\n",
              "      <th>member_id</th>\n",
              "      <th>loan_amnt</th>\n",
              "      <th>funded_amnt</th>\n",
              "      <th>funded_amnt_inv</th>\n",
              "      <th>term</th>\n",
              "      <th>int_rate</th>\n",
              "      <th>installment</th>\n",
              "      <th>grade</th>\n",
              "      <th>sub_grade</th>\n",
              "      <th>...</th>\n",
              "      <th>total_bal_il</th>\n",
              "      <th>il_util</th>\n",
              "      <th>open_rv_12m</th>\n",
              "      <th>open_rv_24m</th>\n",
              "      <th>max_bal_bc</th>\n",
              "      <th>all_util</th>\n",
              "      <th>total_rev_hi_lim</th>\n",
              "      <th>inq_fi</th>\n",
              "      <th>total_cu_tl</th>\n",
              "      <th>inq_last_12m</th>\n",
              "    </tr>\n",
              "  </thead>\n",
              "  <tbody>\n",
              "    <tr>\n",
              "      <th>0</th>\n",
              "      <td>1077501</td>\n",
              "      <td>1296599</td>\n",
              "      <td>5000.0</td>\n",
              "      <td>5000.0</td>\n",
              "      <td>4975.0</td>\n",
              "      <td>36 months</td>\n",
              "      <td>10.65</td>\n",
              "      <td>162.87</td>\n",
              "      <td>B</td>\n",
              "      <td>B2</td>\n",
              "      <td>...</td>\n",
              "      <td>NaN</td>\n",
              "      <td>NaN</td>\n",
              "      <td>NaN</td>\n",
              "      <td>NaN</td>\n",
              "      <td>NaN</td>\n",
              "      <td>NaN</td>\n",
              "      <td>NaN</td>\n",
              "      <td>NaN</td>\n",
              "      <td>NaN</td>\n",
              "      <td>NaN</td>\n",
              "    </tr>\n",
              "    <tr>\n",
              "      <th>1</th>\n",
              "      <td>1077430</td>\n",
              "      <td>1314167</td>\n",
              "      <td>2500.0</td>\n",
              "      <td>2500.0</td>\n",
              "      <td>2500.0</td>\n",
              "      <td>60 months</td>\n",
              "      <td>15.27</td>\n",
              "      <td>59.83</td>\n",
              "      <td>C</td>\n",
              "      <td>C4</td>\n",
              "      <td>...</td>\n",
              "      <td>NaN</td>\n",
              "      <td>NaN</td>\n",
              "      <td>NaN</td>\n",
              "      <td>NaN</td>\n",
              "      <td>NaN</td>\n",
              "      <td>NaN</td>\n",
              "      <td>NaN</td>\n",
              "      <td>NaN</td>\n",
              "      <td>NaN</td>\n",
              "      <td>NaN</td>\n",
              "    </tr>\n",
              "    <tr>\n",
              "      <th>2</th>\n",
              "      <td>1077175</td>\n",
              "      <td>1313524</td>\n",
              "      <td>2400.0</td>\n",
              "      <td>2400.0</td>\n",
              "      <td>2400.0</td>\n",
              "      <td>36 months</td>\n",
              "      <td>15.96</td>\n",
              "      <td>84.33</td>\n",
              "      <td>C</td>\n",
              "      <td>C5</td>\n",
              "      <td>...</td>\n",
              "      <td>NaN</td>\n",
              "      <td>NaN</td>\n",
              "      <td>NaN</td>\n",
              "      <td>NaN</td>\n",
              "      <td>NaN</td>\n",
              "      <td>NaN</td>\n",
              "      <td>NaN</td>\n",
              "      <td>NaN</td>\n",
              "      <td>NaN</td>\n",
              "      <td>NaN</td>\n",
              "    </tr>\n",
              "    <tr>\n",
              "      <th>3</th>\n",
              "      <td>1076863</td>\n",
              "      <td>1277178</td>\n",
              "      <td>10000.0</td>\n",
              "      <td>10000.0</td>\n",
              "      <td>10000.0</td>\n",
              "      <td>36 months</td>\n",
              "      <td>13.49</td>\n",
              "      <td>339.31</td>\n",
              "      <td>C</td>\n",
              "      <td>C1</td>\n",
              "      <td>...</td>\n",
              "      <td>NaN</td>\n",
              "      <td>NaN</td>\n",
              "      <td>NaN</td>\n",
              "      <td>NaN</td>\n",
              "      <td>NaN</td>\n",
              "      <td>NaN</td>\n",
              "      <td>NaN</td>\n",
              "      <td>NaN</td>\n",
              "      <td>NaN</td>\n",
              "      <td>NaN</td>\n",
              "    </tr>\n",
              "    <tr>\n",
              "      <th>4</th>\n",
              "      <td>1075358</td>\n",
              "      <td>1311748</td>\n",
              "      <td>3000.0</td>\n",
              "      <td>3000.0</td>\n",
              "      <td>3000.0</td>\n",
              "      <td>60 months</td>\n",
              "      <td>12.69</td>\n",
              "      <td>67.79</td>\n",
              "      <td>B</td>\n",
              "      <td>B5</td>\n",
              "      <td>...</td>\n",
              "      <td>NaN</td>\n",
              "      <td>NaN</td>\n",
              "      <td>NaN</td>\n",
              "      <td>NaN</td>\n",
              "      <td>NaN</td>\n",
              "      <td>NaN</td>\n",
              "      <td>NaN</td>\n",
              "      <td>NaN</td>\n",
              "      <td>NaN</td>\n",
              "      <td>NaN</td>\n",
              "    </tr>\n",
              "  </tbody>\n",
              "</table>\n",
              "<p>5 rows × 74 columns</p>\n",
              "</div>"
            ],
            "text/plain": [
              "        id  member_id  loan_amnt  funded_amnt  funded_amnt_inv        term  \\\n",
              "0  1077501    1296599     5000.0       5000.0           4975.0   36 months   \n",
              "1  1077430    1314167     2500.0       2500.0           2500.0   60 months   \n",
              "2  1077175    1313524     2400.0       2400.0           2400.0   36 months   \n",
              "3  1076863    1277178    10000.0      10000.0          10000.0   36 months   \n",
              "4  1075358    1311748     3000.0       3000.0           3000.0   60 months   \n",
              "\n",
              "   int_rate  installment grade sub_grade     ...      total_bal_il il_util  \\\n",
              "0     10.65       162.87     B        B2     ...               NaN     NaN   \n",
              "1     15.27        59.83     C        C4     ...               NaN     NaN   \n",
              "2     15.96        84.33     C        C5     ...               NaN     NaN   \n",
              "3     13.49       339.31     C        C1     ...               NaN     NaN   \n",
              "4     12.69        67.79     B        B5     ...               NaN     NaN   \n",
              "\n",
              "  open_rv_12m  open_rv_24m max_bal_bc all_util total_rev_hi_lim inq_fi  \\\n",
              "0         NaN          NaN        NaN      NaN              NaN    NaN   \n",
              "1         NaN          NaN        NaN      NaN              NaN    NaN   \n",
              "2         NaN          NaN        NaN      NaN              NaN    NaN   \n",
              "3         NaN          NaN        NaN      NaN              NaN    NaN   \n",
              "4         NaN          NaN        NaN      NaN              NaN    NaN   \n",
              "\n",
              "  total_cu_tl inq_last_12m  \n",
              "0         NaN          NaN  \n",
              "1         NaN          NaN  \n",
              "2         NaN          NaN  \n",
              "3         NaN          NaN  \n",
              "4         NaN          NaN  \n",
              "\n",
              "[5 rows x 74 columns]"
            ]
          },
          "metadata": {
            "tags": []
          },
          "execution_count": 48
        }
      ]
    },
    {
      "metadata": {
        "_uuid": "aff77007bcedfcf597f23806d8f89ccd2bfafea0",
        "colab_type": "text",
        "id": "3UeVZzY5Awc7"
      },
      "cell_type": "markdown",
      "source": [
        "### Data Cleaning"
      ]
    },
    {
      "metadata": {
        "_uuid": "48420d5feb0d5d9cf8762ba528e7a391a57b17bf",
        "colab_type": "code",
        "id": "z028MIU_Awc8",
        "outputId": "d4bfe73e-c308-4f6d-c90f-5209d912ead5",
        "colab": {}
      },
      "cell_type": "code",
      "source": [
        "# find the count and percentage of values that are missing in the dataframe.\n",
        "df_null = pd.DataFrame({'Count': df.isnull().sum(), 'Percent': 100*df.isnull().sum()/len(df)})\n",
        "\n",
        "# print columns with null count more than 0\n",
        "df_null[df_null['Count'] > 0] "
      ],
      "execution_count": 0,
      "outputs": [
        {
          "output_type": "execute_result",
          "data": {
            "text/html": [
              "<div>\n",
              "<style scoped>\n",
              "    .dataframe tbody tr th:only-of-type {\n",
              "        vertical-align: middle;\n",
              "    }\n",
              "\n",
              "    .dataframe tbody tr th {\n",
              "        vertical-align: top;\n",
              "    }\n",
              "\n",
              "    .dataframe thead th {\n",
              "        text-align: right;\n",
              "    }\n",
              "</style>\n",
              "<table border=\"1\" class=\"dataframe\">\n",
              "  <thead>\n",
              "    <tr style=\"text-align: right;\">\n",
              "      <th></th>\n",
              "      <th>Count</th>\n",
              "      <th>Percent</th>\n",
              "    </tr>\n",
              "  </thead>\n",
              "  <tbody>\n",
              "    <tr>\n",
              "      <th>emp_title</th>\n",
              "      <td>51462</td>\n",
              "      <td>5.799326</td>\n",
              "    </tr>\n",
              "    <tr>\n",
              "      <th>emp_length</th>\n",
              "      <td>44825</td>\n",
              "      <td>5.051393</td>\n",
              "    </tr>\n",
              "    <tr>\n",
              "      <th>annual_inc</th>\n",
              "      <td>4</td>\n",
              "      <td>0.000451</td>\n",
              "    </tr>\n",
              "    <tr>\n",
              "      <th>desc</th>\n",
              "      <td>761351</td>\n",
              "      <td>85.797726</td>\n",
              "    </tr>\n",
              "    <tr>\n",
              "      <th>title</th>\n",
              "      <td>152</td>\n",
              "      <td>0.017129</td>\n",
              "    </tr>\n",
              "    <tr>\n",
              "      <th>delinq_2yrs</th>\n",
              "      <td>29</td>\n",
              "      <td>0.003268</td>\n",
              "    </tr>\n",
              "    <tr>\n",
              "      <th>earliest_cr_line</th>\n",
              "      <td>29</td>\n",
              "      <td>0.003268</td>\n",
              "    </tr>\n",
              "    <tr>\n",
              "      <th>inq_last_6mths</th>\n",
              "      <td>29</td>\n",
              "      <td>0.003268</td>\n",
              "    </tr>\n",
              "    <tr>\n",
              "      <th>mths_since_last_delinq</th>\n",
              "      <td>454312</td>\n",
              "      <td>51.197065</td>\n",
              "    </tr>\n",
              "    <tr>\n",
              "      <th>mths_since_last_record</th>\n",
              "      <td>750326</td>\n",
              "      <td>84.555303</td>\n",
              "    </tr>\n",
              "    <tr>\n",
              "      <th>open_acc</th>\n",
              "      <td>29</td>\n",
              "      <td>0.003268</td>\n",
              "    </tr>\n",
              "    <tr>\n",
              "      <th>pub_rec</th>\n",
              "      <td>29</td>\n",
              "      <td>0.003268</td>\n",
              "    </tr>\n",
              "    <tr>\n",
              "      <th>revol_util</th>\n",
              "      <td>502</td>\n",
              "      <td>0.056571</td>\n",
              "    </tr>\n",
              "    <tr>\n",
              "      <th>total_acc</th>\n",
              "      <td>29</td>\n",
              "      <td>0.003268</td>\n",
              "    </tr>\n",
              "    <tr>\n",
              "      <th>last_pymnt_d</th>\n",
              "      <td>17659</td>\n",
              "      <td>1.990018</td>\n",
              "    </tr>\n",
              "    <tr>\n",
              "      <th>next_pymnt_d</th>\n",
              "      <td>252971</td>\n",
              "      <td>28.507661</td>\n",
              "    </tr>\n",
              "    <tr>\n",
              "      <th>last_credit_pull_d</th>\n",
              "      <td>53</td>\n",
              "      <td>0.005973</td>\n",
              "    </tr>\n",
              "    <tr>\n",
              "      <th>collections_12_mths_ex_med</th>\n",
              "      <td>145</td>\n",
              "      <td>0.016340</td>\n",
              "    </tr>\n",
              "    <tr>\n",
              "      <th>mths_since_last_major_derog</th>\n",
              "      <td>665676</td>\n",
              "      <td>75.015974</td>\n",
              "    </tr>\n",
              "    <tr>\n",
              "      <th>annual_inc_joint</th>\n",
              "      <td>886868</td>\n",
              "      <td>99.942415</td>\n",
              "    </tr>\n",
              "    <tr>\n",
              "      <th>dti_joint</th>\n",
              "      <td>886870</td>\n",
              "      <td>99.942640</td>\n",
              "    </tr>\n",
              "    <tr>\n",
              "      <th>verification_status_joint</th>\n",
              "      <td>886868</td>\n",
              "      <td>99.942415</td>\n",
              "    </tr>\n",
              "    <tr>\n",
              "      <th>acc_now_delinq</th>\n",
              "      <td>29</td>\n",
              "      <td>0.003268</td>\n",
              "    </tr>\n",
              "    <tr>\n",
              "      <th>tot_coll_amt</th>\n",
              "      <td>70276</td>\n",
              "      <td>7.919502</td>\n",
              "    </tr>\n",
              "    <tr>\n",
              "      <th>tot_cur_bal</th>\n",
              "      <td>70276</td>\n",
              "      <td>7.919502</td>\n",
              "    </tr>\n",
              "    <tr>\n",
              "      <th>open_acc_6m</th>\n",
              "      <td>866007</td>\n",
              "      <td>97.591559</td>\n",
              "    </tr>\n",
              "    <tr>\n",
              "      <th>open_il_6m</th>\n",
              "      <td>866007</td>\n",
              "      <td>97.591559</td>\n",
              "    </tr>\n",
              "    <tr>\n",
              "      <th>open_il_12m</th>\n",
              "      <td>866007</td>\n",
              "      <td>97.591559</td>\n",
              "    </tr>\n",
              "    <tr>\n",
              "      <th>open_il_24m</th>\n",
              "      <td>866007</td>\n",
              "      <td>97.591559</td>\n",
              "    </tr>\n",
              "    <tr>\n",
              "      <th>mths_since_rcnt_il</th>\n",
              "      <td>866569</td>\n",
              "      <td>97.654892</td>\n",
              "    </tr>\n",
              "    <tr>\n",
              "      <th>total_bal_il</th>\n",
              "      <td>866007</td>\n",
              "      <td>97.591559</td>\n",
              "    </tr>\n",
              "    <tr>\n",
              "      <th>il_util</th>\n",
              "      <td>868762</td>\n",
              "      <td>97.902024</td>\n",
              "    </tr>\n",
              "    <tr>\n",
              "      <th>open_rv_12m</th>\n",
              "      <td>866007</td>\n",
              "      <td>97.591559</td>\n",
              "    </tr>\n",
              "    <tr>\n",
              "      <th>open_rv_24m</th>\n",
              "      <td>866007</td>\n",
              "      <td>97.591559</td>\n",
              "    </tr>\n",
              "    <tr>\n",
              "      <th>max_bal_bc</th>\n",
              "      <td>866007</td>\n",
              "      <td>97.591559</td>\n",
              "    </tr>\n",
              "    <tr>\n",
              "      <th>all_util</th>\n",
              "      <td>866007</td>\n",
              "      <td>97.591559</td>\n",
              "    </tr>\n",
              "    <tr>\n",
              "      <th>total_rev_hi_lim</th>\n",
              "      <td>70276</td>\n",
              "      <td>7.919502</td>\n",
              "    </tr>\n",
              "    <tr>\n",
              "      <th>inq_fi</th>\n",
              "      <td>866007</td>\n",
              "      <td>97.591559</td>\n",
              "    </tr>\n",
              "    <tr>\n",
              "      <th>total_cu_tl</th>\n",
              "      <td>866007</td>\n",
              "      <td>97.591559</td>\n",
              "    </tr>\n",
              "    <tr>\n",
              "      <th>inq_last_12m</th>\n",
              "      <td>866007</td>\n",
              "      <td>97.591559</td>\n",
              "    </tr>\n",
              "  </tbody>\n",
              "</table>\n",
              "</div>"
            ],
            "text/plain": [
              "                              Count    Percent\n",
              "emp_title                     51462   5.799326\n",
              "emp_length                    44825   5.051393\n",
              "annual_inc                        4   0.000451\n",
              "desc                         761351  85.797726\n",
              "title                           152   0.017129\n",
              "delinq_2yrs                      29   0.003268\n",
              "earliest_cr_line                 29   0.003268\n",
              "inq_last_6mths                   29   0.003268\n",
              "mths_since_last_delinq       454312  51.197065\n",
              "mths_since_last_record       750326  84.555303\n",
              "open_acc                         29   0.003268\n",
              "pub_rec                          29   0.003268\n",
              "revol_util                      502   0.056571\n",
              "total_acc                        29   0.003268\n",
              "last_pymnt_d                  17659   1.990018\n",
              "next_pymnt_d                 252971  28.507661\n",
              "last_credit_pull_d               53   0.005973\n",
              "collections_12_mths_ex_med      145   0.016340\n",
              "mths_since_last_major_derog  665676  75.015974\n",
              "annual_inc_joint             886868  99.942415\n",
              "dti_joint                    886870  99.942640\n",
              "verification_status_joint    886868  99.942415\n",
              "acc_now_delinq                   29   0.003268\n",
              "tot_coll_amt                  70276   7.919502\n",
              "tot_cur_bal                   70276   7.919502\n",
              "open_acc_6m                  866007  97.591559\n",
              "open_il_6m                   866007  97.591559\n",
              "open_il_12m                  866007  97.591559\n",
              "open_il_24m                  866007  97.591559\n",
              "mths_since_rcnt_il           866569  97.654892\n",
              "total_bal_il                 866007  97.591559\n",
              "il_util                      868762  97.902024\n",
              "open_rv_12m                  866007  97.591559\n",
              "open_rv_24m                  866007  97.591559\n",
              "max_bal_bc                   866007  97.591559\n",
              "all_util                     866007  97.591559\n",
              "total_rev_hi_lim              70276   7.919502\n",
              "inq_fi                       866007  97.591559\n",
              "total_cu_tl                  866007  97.591559\n",
              "inq_last_12m                 866007  97.591559"
            ]
          },
          "metadata": {
            "tags": []
          },
          "execution_count": 55
        }
      ]
    },
    {
      "metadata": {
        "_uuid": "fa68a0e27bdc1af6ddf4adf84189baf39dbb8509",
        "colab_type": "text",
        "id": "vVRHi58zAwc_"
      },
      "cell_type": "markdown",
      "source": [
        "As you can see, there are a lot of columns which have huge chunk of data missing. These columns are not necessary for our \n",
        "analysis. The following part will drop any columns where 80% or more data is missing. This will help us clean the Dataset \n",
        "a little bit."
      ]
    },
    {
      "metadata": {
        "_uuid": "a14af76a43cbf285a905d2c5a0af38c2a25fe3fa",
        "colab_type": "code",
        "id": "3wi2YU7KAwdB",
        "colab": {}
      },
      "cell_type": "code",
      "source": [
        "df1 = df.dropna(axis=1, thresh=int(0.80*len(df)))"
      ],
      "execution_count": 0,
      "outputs": []
    },
    {
      "metadata": {
        "_uuid": "e5d7d9e135785bc96f5f660a0b698218d96580dc",
        "colab_type": "code",
        "id": "xFO3Hw7IAwdG",
        "outputId": "ba2693fa-076b-4644-eab3-bdf9fb05e4bf",
        "colab": {}
      },
      "cell_type": "code",
      "source": [
        "df1.head(3)"
      ],
      "execution_count": 0,
      "outputs": [
        {
          "output_type": "execute_result",
          "data": {
            "text/html": [
              "<div>\n",
              "<style scoped>\n",
              "    .dataframe tbody tr th:only-of-type {\n",
              "        vertical-align: middle;\n",
              "    }\n",
              "\n",
              "    .dataframe tbody tr th {\n",
              "        vertical-align: top;\n",
              "    }\n",
              "\n",
              "    .dataframe thead th {\n",
              "        text-align: right;\n",
              "    }\n",
              "</style>\n",
              "<table border=\"1\" class=\"dataframe\">\n",
              "  <thead>\n",
              "    <tr style=\"text-align: right;\">\n",
              "      <th></th>\n",
              "      <th>id</th>\n",
              "      <th>member_id</th>\n",
              "      <th>loan_amnt</th>\n",
              "      <th>funded_amnt</th>\n",
              "      <th>funded_amnt_inv</th>\n",
              "      <th>term</th>\n",
              "      <th>int_rate</th>\n",
              "      <th>installment</th>\n",
              "      <th>grade</th>\n",
              "      <th>sub_grade</th>\n",
              "      <th>...</th>\n",
              "      <th>last_pymnt_d</th>\n",
              "      <th>last_pymnt_amnt</th>\n",
              "      <th>last_credit_pull_d</th>\n",
              "      <th>collections_12_mths_ex_med</th>\n",
              "      <th>policy_code</th>\n",
              "      <th>application_type</th>\n",
              "      <th>acc_now_delinq</th>\n",
              "      <th>tot_coll_amt</th>\n",
              "      <th>tot_cur_bal</th>\n",
              "      <th>total_rev_hi_lim</th>\n",
              "    </tr>\n",
              "  </thead>\n",
              "  <tbody>\n",
              "    <tr>\n",
              "      <th>0</th>\n",
              "      <td>1077501</td>\n",
              "      <td>1296599</td>\n",
              "      <td>5000.0</td>\n",
              "      <td>5000.0</td>\n",
              "      <td>4975.0</td>\n",
              "      <td>36 months</td>\n",
              "      <td>10.65</td>\n",
              "      <td>162.87</td>\n",
              "      <td>B</td>\n",
              "      <td>B2</td>\n",
              "      <td>...</td>\n",
              "      <td>Jan-2015</td>\n",
              "      <td>171.62</td>\n",
              "      <td>Jan-2016</td>\n",
              "      <td>0.0</td>\n",
              "      <td>1.0</td>\n",
              "      <td>INDIVIDUAL</td>\n",
              "      <td>0.0</td>\n",
              "      <td>NaN</td>\n",
              "      <td>NaN</td>\n",
              "      <td>NaN</td>\n",
              "    </tr>\n",
              "    <tr>\n",
              "      <th>1</th>\n",
              "      <td>1077430</td>\n",
              "      <td>1314167</td>\n",
              "      <td>2500.0</td>\n",
              "      <td>2500.0</td>\n",
              "      <td>2500.0</td>\n",
              "      <td>60 months</td>\n",
              "      <td>15.27</td>\n",
              "      <td>59.83</td>\n",
              "      <td>C</td>\n",
              "      <td>C4</td>\n",
              "      <td>...</td>\n",
              "      <td>Apr-2013</td>\n",
              "      <td>119.66</td>\n",
              "      <td>Sep-2013</td>\n",
              "      <td>0.0</td>\n",
              "      <td>1.0</td>\n",
              "      <td>INDIVIDUAL</td>\n",
              "      <td>0.0</td>\n",
              "      <td>NaN</td>\n",
              "      <td>NaN</td>\n",
              "      <td>NaN</td>\n",
              "    </tr>\n",
              "    <tr>\n",
              "      <th>2</th>\n",
              "      <td>1077175</td>\n",
              "      <td>1313524</td>\n",
              "      <td>2400.0</td>\n",
              "      <td>2400.0</td>\n",
              "      <td>2400.0</td>\n",
              "      <td>36 months</td>\n",
              "      <td>15.96</td>\n",
              "      <td>84.33</td>\n",
              "      <td>C</td>\n",
              "      <td>C5</td>\n",
              "      <td>...</td>\n",
              "      <td>Jun-2014</td>\n",
              "      <td>649.91</td>\n",
              "      <td>Jan-2016</td>\n",
              "      <td>0.0</td>\n",
              "      <td>1.0</td>\n",
              "      <td>INDIVIDUAL</td>\n",
              "      <td>0.0</td>\n",
              "      <td>NaN</td>\n",
              "      <td>NaN</td>\n",
              "      <td>NaN</td>\n",
              "    </tr>\n",
              "  </tbody>\n",
              "</table>\n",
              "<p>3 rows × 52 columns</p>\n",
              "</div>"
            ],
            "text/plain": [
              "        id  member_id  loan_amnt  funded_amnt  funded_amnt_inv        term  \\\n",
              "0  1077501    1296599     5000.0       5000.0           4975.0   36 months   \n",
              "1  1077430    1314167     2500.0       2500.0           2500.0   60 months   \n",
              "2  1077175    1313524     2400.0       2400.0           2400.0   36 months   \n",
              "\n",
              "   int_rate  installment grade sub_grade       ...        last_pymnt_d  \\\n",
              "0     10.65       162.87     B        B2       ...            Jan-2015   \n",
              "1     15.27        59.83     C        C4       ...            Apr-2013   \n",
              "2     15.96        84.33     C        C5       ...            Jun-2014   \n",
              "\n",
              "  last_pymnt_amnt last_credit_pull_d  collections_12_mths_ex_med policy_code  \\\n",
              "0          171.62           Jan-2016                         0.0         1.0   \n",
              "1          119.66           Sep-2013                         0.0         1.0   \n",
              "2          649.91           Jan-2016                         0.0         1.0   \n",
              "\n",
              "  application_type acc_now_delinq tot_coll_amt tot_cur_bal total_rev_hi_lim  \n",
              "0       INDIVIDUAL            0.0          NaN         NaN              NaN  \n",
              "1       INDIVIDUAL            0.0          NaN         NaN              NaN  \n",
              "2       INDIVIDUAL            0.0          NaN         NaN              NaN  \n",
              "\n",
              "[3 rows x 52 columns]"
            ]
          },
          "metadata": {
            "tags": []
          },
          "execution_count": 58
        }
      ]
    },
    {
      "metadata": {
        "_uuid": "4d033827dfaeba46e77394e965e76e1f5af52570",
        "colab_type": "text",
        "id": "oXiZ9iUzAwdK"
      },
      "cell_type": "markdown",
      "source": [
        "Now that we explored the whole dataframe easily, we will now select the columns that are necessary for our analysis."
      ]
    },
    {
      "metadata": {
        "_uuid": "02b4af81218d30fd0ff979ad3e077ecd6210f0eb",
        "colab_type": "code",
        "id": "OTcXi8x3AwdL",
        "outputId": "20fd2877-fff5-493a-ec79-4ff73c75b7af",
        "colab": {}
      },
      "cell_type": "code",
      "source": [
        "df_LC = df1.filter(['loan_amnt','term','int_rate','installment','grade','sub_grade','emp_length','home_ownership',\n",
        "                    'annual_inc','verification_status','purpose','dti','delinq_2yrs','loan_status'])\n",
        "df_LC.dtypes"
      ],
      "execution_count": 0,
      "outputs": [
        {
          "output_type": "execute_result",
          "data": {
            "text/plain": [
              "loan_amnt              float64\n",
              "term                    object\n",
              "int_rate               float64\n",
              "installment            float64\n",
              "grade                   object\n",
              "sub_grade               object\n",
              "emp_length              object\n",
              "home_ownership          object\n",
              "annual_inc             float64\n",
              "verification_status     object\n",
              "purpose                 object\n",
              "dti                    float64\n",
              "delinq_2yrs            float64\n",
              "loan_status             object\n",
              "dtype: object"
            ]
          },
          "metadata": {
            "tags": []
          },
          "execution_count": 59
        }
      ]
    },
    {
      "metadata": {
        "_uuid": "66c9b2fe5f83e096ca06e901fbe75b0865757602",
        "colab_type": "text",
        "id": "576nc8cVAwdO"
      },
      "cell_type": "markdown",
      "source": [
        "### Finding the correlation between variables\n",
        "We will now look at the correlation structure between our variables that we selected above. This will tell us about any dependencies between different variables and help us reduce the dimensionality a little bit more"
      ]
    },
    {
      "metadata": {
        "_uuid": "0edd35b1ed1aff129da1e7822c147f09c011643d",
        "colab_type": "code",
        "id": "rUn-_3V2AwdP",
        "outputId": "2b2707b9-116d-4fde-aa9b-3d2b81165d7c",
        "colab": {}
      },
      "cell_type": "code",
      "source": [
        "plt.figure(figsize=(20,20))\n",
        "sns.set_context(\"paper\", font_scale=1)\n",
        "\n",
        "# find the correllation matrix and changing the categorical data to category for the plot.\n",
        "sns.heatmap(df_LC.assign(grade=df_LC.grade.astype('category').cat.codes,\n",
        "                         sub_g=df_LC.sub_grade.astype('category').cat.codes,\n",
        "                         term=df_LC.term.astype('category').cat.codes,\n",
        "                        emp_l=df_LC.emp_length.astype('category').cat.codes,\n",
        "                         ver =df_LC.verification_status.astype('category').cat.codes,\n",
        "                        home=df_LC.home_ownership.astype('category').cat.codes,\n",
        "                        purp=df_LC.purpose.astype('category').cat.codes).corr(), \n",
        "                         annot=True, cmap='YlGnBu',vmin=-1, vmax=1, square=True, linewidths=0.5)"
      ],
      "execution_count": 0,
      "outputs": [
        {
          "output_type": "execute_result",
          "data": {
            "text/plain": [
              "<matplotlib.axes._subplots.AxesSubplot at 0x1a2b4ac0b8>"
            ]
          },
          "metadata": {
            "tags": []
          },
          "execution_count": 61
        },
        {
          "output_type": "display_data",
          "data": {
            "image/png": "[encoded data removed]",
            "text/plain": [
              "<Figure size 1440x1440 with 2 Axes>"
            ]
          },
          "metadata": {
            "tags": [],
            "needs_background": "light"
          }
        }
      ]
    },
    {
      "metadata": {
        "_uuid": "55c7944a24dc84f385b4c716c566c610294d8b5c",
        "colab_type": "text",
        "id": "oqKyyOdxAwdT"
      },
      "cell_type": "markdown",
      "source": [
        "It can be seen from the plot above that loan amount and installment have a very high correlation amongst each other (0.94). This is intuitive since a person who takes a large sum of loan would require extra time to repay it back. Also, interest rate, sub grade and grade have a very high correlation between them. This is obvious since interest rate is decided by grades once the grades are decided, a subgrade is assigned to that loan (leading to high correlation).\n",
        "\n",
        "Let's drop the three categories alongwith term and verification status(since it doesn't provide any valuable info) for further analysis.\n"
      ]
    },
    {
      "metadata": {
        "_uuid": "8007bef8d99b748eae1402c2badb1531329a7460",
        "colab_type": "code",
        "id": "Oqhv2fVCAwdU",
        "colab": {}
      },
      "cell_type": "code",
      "source": [
        "df_LC.drop(['installment','grade','sub_grade','verification_status','term']\n",
        "           , axis=1, inplace = True)"
      ],
      "execution_count": 0,
      "outputs": []
    },
    {
      "metadata": {
        "_uuid": "8e5b31b88f5e9f23d921f3ed171ca21534a33737",
        "colab_type": "code",
        "id": "CCiUo8VNAwdY",
        "outputId": "f1fd0452-6268-45e1-bda0-452b36a31cdb",
        "colab": {}
      },
      "cell_type": "code",
      "source": [
        "# print the count and null values in the dataframe\n",
        "dflc_null = pd.DataFrame({'Count': df_LC.isnull().sum(), 'Percent': 100*df_LC.isnull().sum()/len(df_LC)})\n",
        "dflc_null[dflc_null['Count'] > 0]"
      ],
      "execution_count": 0,
      "outputs": [
        {
          "output_type": "execute_result",
          "data": {
            "text/html": [
              "<div>\n",
              "<style scoped>\n",
              "    .dataframe tbody tr th:only-of-type {\n",
              "        vertical-align: middle;\n",
              "    }\n",
              "\n",
              "    .dataframe tbody tr th {\n",
              "        vertical-align: top;\n",
              "    }\n",
              "\n",
              "    .dataframe thead th {\n",
              "        text-align: right;\n",
              "    }\n",
              "</style>\n",
              "<table border=\"1\" class=\"dataframe\">\n",
              "  <thead>\n",
              "    <tr style=\"text-align: right;\">\n",
              "      <th></th>\n",
              "      <th>Count</th>\n",
              "      <th>Percent</th>\n",
              "    </tr>\n",
              "  </thead>\n",
              "  <tbody>\n",
              "    <tr>\n",
              "      <th>emp_length</th>\n",
              "      <td>44825</td>\n",
              "      <td>5.051393</td>\n",
              "    </tr>\n",
              "    <tr>\n",
              "      <th>annual_inc</th>\n",
              "      <td>4</td>\n",
              "      <td>0.000451</td>\n",
              "    </tr>\n",
              "    <tr>\n",
              "      <th>delinq_2yrs</th>\n",
              "      <td>29</td>\n",
              "      <td>0.003268</td>\n",
              "    </tr>\n",
              "  </tbody>\n",
              "</table>\n",
              "</div>"
            ],
            "text/plain": [
              "             Count   Percent\n",
              "emp_length   44825  5.051393\n",
              "annual_inc       4  0.000451\n",
              "delinq_2yrs     29  0.003268"
            ]
          },
          "metadata": {
            "tags": []
          },
          "execution_count": 12
        }
      ]
    },
    {
      "metadata": {
        "_uuid": "1dbc63e25943b1742698dd24da09cf4a2509a239",
        "colab_type": "code",
        "id": "A_z3fBeaAwda",
        "outputId": "b5220134-fbfe-4db7-89cc-6fba4da1fb43",
        "colab": {}
      },
      "cell_type": "code",
      "source": [
        "# dropping the null rows since we have sufficient amount of data and there is no need to fill the null values.\n",
        "df_LC.dropna(axis=0)"
      ],
      "execution_count": 0,
      "outputs": [
        {
          "output_type": "execute_result",
          "data": {
            "text/html": [
              "<div>\n",
              "<style scoped>\n",
              "    .dataframe tbody tr th:only-of-type {\n",
              "        vertical-align: middle;\n",
              "    }\n",
              "\n",
              "    .dataframe tbody tr th {\n",
              "        vertical-align: top;\n",
              "    }\n",
              "\n",
              "    .dataframe thead th {\n",
              "        text-align: right;\n",
              "    }\n",
              "</style>\n",
              "<table border=\"1\" class=\"dataframe\">\n",
              "  <thead>\n",
              "    <tr style=\"text-align: right;\">\n",
              "      <th></th>\n",
              "      <th>loan_amnt</th>\n",
              "      <th>int_rate</th>\n",
              "      <th>emp_length</th>\n",
              "      <th>home_ownership</th>\n",
              "      <th>annual_inc</th>\n",
              "      <th>purpose</th>\n",
              "      <th>dti</th>\n",
              "      <th>delinq_2yrs</th>\n",
              "      <th>loan_status</th>\n",
              "    </tr>\n",
              "  </thead>\n",
              "  <tbody>\n",
              "    <tr>\n",
              "      <th>0</th>\n",
              "      <td>5000.0</td>\n",
              "      <td>10.65</td>\n",
              "      <td>10+ years</td>\n",
              "      <td>RENT</td>\n",
              "      <td>24000.00</td>\n",
              "      <td>credit_card</td>\n",
              "      <td>27.65</td>\n",
              "      <td>0.0</td>\n",
              "      <td>Fully Paid</td>\n",
              "    </tr>\n",
              "    <tr>\n",
              "      <th>1</th>\n",
              "      <td>2500.0</td>\n",
              "      <td>15.27</td>\n",
              "      <td>&lt; 1 year</td>\n",
              "      <td>RENT</td>\n",
              "      <td>30000.00</td>\n",
              "      <td>car</td>\n",
              "      <td>1.00</td>\n",
              "      <td>0.0</td>\n",
              "      <td>Charged Off</td>\n",
              "    </tr>\n",
              "    <tr>\n",
              "      <th>2</th>\n",
              "      <td>2400.0</td>\n",
              "      <td>15.96</td>\n",
              "      <td>10+ years</td>\n",
              "      <td>RENT</td>\n",
              "      <td>12252.00</td>\n",
              "      <td>small_business</td>\n",
              "      <td>8.72</td>\n",
              "      <td>0.0</td>\n",
              "      <td>Fully Paid</td>\n",
              "    </tr>\n",
              "    <tr>\n",
              "      <th>3</th>\n",
              "      <td>10000.0</td>\n",
              "      <td>13.49</td>\n",
              "      <td>10+ years</td>\n",
              "      <td>RENT</td>\n",
              "      <td>49200.00</td>\n",
              "      <td>other</td>\n",
              "      <td>20.00</td>\n",
              "      <td>0.0</td>\n",
              "      <td>Fully Paid</td>\n",
              "    </tr>\n",
              "    <tr>\n",
              "      <th>4</th>\n",
              "      <td>3000.0</td>\n",
              "      <td>12.69</td>\n",
              "      <td>1 year</td>\n",
              "      <td>RENT</td>\n",
              "      <td>80000.00</td>\n",
              "      <td>other</td>\n",
              "      <td>17.94</td>\n",
              "      <td>0.0</td>\n",
              "      <td>Current</td>\n",
              "    </tr>\n",
              "    <tr>\n",
              "      <th>5</th>\n",
              "      <td>5000.0</td>\n",
              "      <td>7.90</td>\n",
              "      <td>3 years</td>\n",
              "      <td>RENT</td>\n",
              "      <td>36000.00</td>\n",
              "      <td>wedding</td>\n",
              "      <td>11.20</td>\n",
              "      <td>0.0</td>\n",
              "      <td>Fully Paid</td>\n",
              "    </tr>\n",
              "    <tr>\n",
              "      <th>6</th>\n",
              "      <td>7000.0</td>\n",
              "      <td>15.96</td>\n",
              "      <td>8 years</td>\n",
              "      <td>RENT</td>\n",
              "      <td>47004.00</td>\n",
              "      <td>debt_consolidation</td>\n",
              "      <td>23.51</td>\n",
              "      <td>0.0</td>\n",
              "      <td>Current</td>\n",
              "    </tr>\n",
              "    <tr>\n",
              "      <th>7</th>\n",
              "      <td>3000.0</td>\n",
              "      <td>18.64</td>\n",
              "      <td>9 years</td>\n",
              "      <td>RENT</td>\n",
              "      <td>48000.00</td>\n",
              "      <td>car</td>\n",
              "      <td>5.35</td>\n",
              "      <td>0.0</td>\n",
              "      <td>Fully Paid</td>\n",
              "    </tr>\n",
              "    <tr>\n",
              "      <th>8</th>\n",
              "      <td>5600.0</td>\n",
              "      <td>21.28</td>\n",
              "      <td>4 years</td>\n",
              "      <td>OWN</td>\n",
              "      <td>40000.00</td>\n",
              "      <td>small_business</td>\n",
              "      <td>5.55</td>\n",
              "      <td>0.0</td>\n",
              "      <td>Charged Off</td>\n",
              "    </tr>\n",
              "    <tr>\n",
              "      <th>9</th>\n",
              "      <td>5375.0</td>\n",
              "      <td>12.69</td>\n",
              "      <td>&lt; 1 year</td>\n",
              "      <td>RENT</td>\n",
              "      <td>15000.00</td>\n",
              "      <td>other</td>\n",
              "      <td>18.08</td>\n",
              "      <td>0.0</td>\n",
              "      <td>Charged Off</td>\n",
              "    </tr>\n",
              "    <tr>\n",
              "      <th>10</th>\n",
              "      <td>6500.0</td>\n",
              "      <td>14.65</td>\n",
              "      <td>5 years</td>\n",
              "      <td>OWN</td>\n",
              "      <td>72000.00</td>\n",
              "      <td>debt_consolidation</td>\n",
              "      <td>16.12</td>\n",
              "      <td>0.0</td>\n",
              "      <td>Fully Paid</td>\n",
              "    </tr>\n",
              "    <tr>\n",
              "      <th>11</th>\n",
              "      <td>12000.0</td>\n",
              "      <td>12.69</td>\n",
              "      <td>10+ years</td>\n",
              "      <td>OWN</td>\n",
              "      <td>75000.00</td>\n",
              "      <td>debt_consolidation</td>\n",
              "      <td>10.78</td>\n",
              "      <td>0.0</td>\n",
              "      <td>Fully Paid</td>\n",
              "    </tr>\n",
              "    <tr>\n",
              "      <th>12</th>\n",
              "      <td>9000.0</td>\n",
              "      <td>13.49</td>\n",
              "      <td>&lt; 1 year</td>\n",
              "      <td>RENT</td>\n",
              "      <td>30000.00</td>\n",
              "      <td>debt_consolidation</td>\n",
              "      <td>10.08</td>\n",
              "      <td>0.0</td>\n",
              "      <td>Charged Off</td>\n",
              "    </tr>\n",
              "    <tr>\n",
              "      <th>13</th>\n",
              "      <td>3000.0</td>\n",
              "      <td>9.91</td>\n",
              "      <td>3 years</td>\n",
              "      <td>RENT</td>\n",
              "      <td>15000.00</td>\n",
              "      <td>credit_card</td>\n",
              "      <td>12.56</td>\n",
              "      <td>0.0</td>\n",
              "      <td>Fully Paid</td>\n",
              "    </tr>\n",
              "    <tr>\n",
              "      <th>14</th>\n",
              "      <td>10000.0</td>\n",
              "      <td>10.65</td>\n",
              "      <td>3 years</td>\n",
              "      <td>RENT</td>\n",
              "      <td>100000.00</td>\n",
              "      <td>other</td>\n",
              "      <td>7.06</td>\n",
              "      <td>0.0</td>\n",
              "      <td>Charged Off</td>\n",
              "    </tr>\n",
              "    <tr>\n",
              "      <th>15</th>\n",
              "      <td>1000.0</td>\n",
              "      <td>16.29</td>\n",
              "      <td>&lt; 1 year</td>\n",
              "      <td>RENT</td>\n",
              "      <td>28000.00</td>\n",
              "      <td>debt_consolidation</td>\n",
              "      <td>20.31</td>\n",
              "      <td>0.0</td>\n",
              "      <td>Fully Paid</td>\n",
              "    </tr>\n",
              "    <tr>\n",
              "      <th>16</th>\n",
              "      <td>10000.0</td>\n",
              "      <td>15.27</td>\n",
              "      <td>4 years</td>\n",
              "      <td>RENT</td>\n",
              "      <td>42000.00</td>\n",
              "      <td>home_improvement</td>\n",
              "      <td>18.60</td>\n",
              "      <td>0.0</td>\n",
              "      <td>Fully Paid</td>\n",
              "    </tr>\n",
              "    <tr>\n",
              "      <th>17</th>\n",
              "      <td>3600.0</td>\n",
              "      <td>6.03</td>\n",
              "      <td>10+ years</td>\n",
              "      <td>MORTGAGE</td>\n",
              "      <td>110000.00</td>\n",
              "      <td>major_purchase</td>\n",
              "      <td>10.52</td>\n",
              "      <td>0.0</td>\n",
              "      <td>Fully Paid</td>\n",
              "    </tr>\n",
              "    <tr>\n",
              "      <th>18</th>\n",
              "      <td>6000.0</td>\n",
              "      <td>11.71</td>\n",
              "      <td>1 year</td>\n",
              "      <td>MORTGAGE</td>\n",
              "      <td>84000.00</td>\n",
              "      <td>medical</td>\n",
              "      <td>18.44</td>\n",
              "      <td>2.0</td>\n",
              "      <td>Fully Paid</td>\n",
              "    </tr>\n",
              "    <tr>\n",
              "      <th>19</th>\n",
              "      <td>9200.0</td>\n",
              "      <td>6.03</td>\n",
              "      <td>6 years</td>\n",
              "      <td>RENT</td>\n",
              "      <td>77385.19</td>\n",
              "      <td>debt_consolidation</td>\n",
              "      <td>9.86</td>\n",
              "      <td>0.0</td>\n",
              "      <td>Fully Paid</td>\n",
              "    </tr>\n",
              "    <tr>\n",
              "      <th>20</th>\n",
              "      <td>20250.0</td>\n",
              "      <td>15.27</td>\n",
              "      <td>3 years</td>\n",
              "      <td>RENT</td>\n",
              "      <td>43370.00</td>\n",
              "      <td>debt_consolidation</td>\n",
              "      <td>26.53</td>\n",
              "      <td>0.0</td>\n",
              "      <td>Fully Paid</td>\n",
              "    </tr>\n",
              "    <tr>\n",
              "      <th>21</th>\n",
              "      <td>21000.0</td>\n",
              "      <td>12.42</td>\n",
              "      <td>10+ years</td>\n",
              "      <td>RENT</td>\n",
              "      <td>105000.00</td>\n",
              "      <td>debt_consolidation</td>\n",
              "      <td>13.22</td>\n",
              "      <td>0.0</td>\n",
              "      <td>Charged Off</td>\n",
              "    </tr>\n",
              "    <tr>\n",
              "      <th>22</th>\n",
              "      <td>10000.0</td>\n",
              "      <td>11.71</td>\n",
              "      <td>10+ years</td>\n",
              "      <td>OWN</td>\n",
              "      <td>50000.00</td>\n",
              "      <td>credit_card</td>\n",
              "      <td>11.18</td>\n",
              "      <td>0.0</td>\n",
              "      <td>Fully Paid</td>\n",
              "    </tr>\n",
              "    <tr>\n",
              "      <th>23</th>\n",
              "      <td>10000.0</td>\n",
              "      <td>11.71</td>\n",
              "      <td>5 years</td>\n",
              "      <td>RENT</td>\n",
              "      <td>50000.00</td>\n",
              "      <td>debt_consolidation</td>\n",
              "      <td>16.01</td>\n",
              "      <td>0.0</td>\n",
              "      <td>Fully Paid</td>\n",
              "    </tr>\n",
              "    <tr>\n",
              "      <th>24</th>\n",
              "      <td>6000.0</td>\n",
              "      <td>11.71</td>\n",
              "      <td>1 year</td>\n",
              "      <td>RENT</td>\n",
              "      <td>76000.00</td>\n",
              "      <td>major_purchase</td>\n",
              "      <td>2.40</td>\n",
              "      <td>0.0</td>\n",
              "      <td>Charged Off</td>\n",
              "    </tr>\n",
              "    <tr>\n",
              "      <th>25</th>\n",
              "      <td>15000.0</td>\n",
              "      <td>9.91</td>\n",
              "      <td>2 years</td>\n",
              "      <td>MORTGAGE</td>\n",
              "      <td>92000.00</td>\n",
              "      <td>credit_card</td>\n",
              "      <td>29.44</td>\n",
              "      <td>0.0</td>\n",
              "      <td>Fully Paid</td>\n",
              "    </tr>\n",
              "    <tr>\n",
              "      <th>26</th>\n",
              "      <td>15000.0</td>\n",
              "      <td>14.27</td>\n",
              "      <td>9 years</td>\n",
              "      <td>RENT</td>\n",
              "      <td>60000.00</td>\n",
              "      <td>debt_consolidation</td>\n",
              "      <td>15.22</td>\n",
              "      <td>0.0</td>\n",
              "      <td>Charged Off</td>\n",
              "    </tr>\n",
              "    <tr>\n",
              "      <th>27</th>\n",
              "      <td>5000.0</td>\n",
              "      <td>16.77</td>\n",
              "      <td>2 years</td>\n",
              "      <td>RENT</td>\n",
              "      <td>50004.00</td>\n",
              "      <td>other</td>\n",
              "      <td>13.97</td>\n",
              "      <td>3.0</td>\n",
              "      <td>Charged Off</td>\n",
              "    </tr>\n",
              "    <tr>\n",
              "      <th>28</th>\n",
              "      <td>4000.0</td>\n",
              "      <td>11.71</td>\n",
              "      <td>10+ years</td>\n",
              "      <td>MORTGAGE</td>\n",
              "      <td>106000.00</td>\n",
              "      <td>debt_consolidation</td>\n",
              "      <td>5.63</td>\n",
              "      <td>1.0</td>\n",
              "      <td>Fully Paid</td>\n",
              "    </tr>\n",
              "    <tr>\n",
              "      <th>29</th>\n",
              "      <td>8500.0</td>\n",
              "      <td>11.71</td>\n",
              "      <td>&lt; 1 year</td>\n",
              "      <td>RENT</td>\n",
              "      <td>25000.00</td>\n",
              "      <td>credit_card</td>\n",
              "      <td>12.19</td>\n",
              "      <td>0.0</td>\n",
              "      <td>Fully Paid</td>\n",
              "    </tr>\n",
              "    <tr>\n",
              "      <th>...</th>\n",
              "      <td>...</td>\n",
              "      <td>...</td>\n",
              "      <td>...</td>\n",
              "      <td>...</td>\n",
              "      <td>...</td>\n",
              "      <td>...</td>\n",
              "      <td>...</td>\n",
              "      <td>...</td>\n",
              "      <td>...</td>\n",
              "    </tr>\n",
              "    <tr>\n",
              "      <th>887346</th>\n",
              "      <td>6000.0</td>\n",
              "      <td>10.49</td>\n",
              "      <td>4 years</td>\n",
              "      <td>RENT</td>\n",
              "      <td>42000.00</td>\n",
              "      <td>debt_consolidation</td>\n",
              "      <td>10.66</td>\n",
              "      <td>0.0</td>\n",
              "      <td>Fully Paid</td>\n",
              "    </tr>\n",
              "    <tr>\n",
              "      <th>887347</th>\n",
              "      <td>17000.0</td>\n",
              "      <td>15.99</td>\n",
              "      <td>10+ years</td>\n",
              "      <td>MORTGAGE</td>\n",
              "      <td>63078.00</td>\n",
              "      <td>debt_consolidation</td>\n",
              "      <td>31.70</td>\n",
              "      <td>0.0</td>\n",
              "      <td>Fully Paid</td>\n",
              "    </tr>\n",
              "    <tr>\n",
              "      <th>887348</th>\n",
              "      <td>13000.0</td>\n",
              "      <td>8.19</td>\n",
              "      <td>10+ years</td>\n",
              "      <td>MORTGAGE</td>\n",
              "      <td>85000.00</td>\n",
              "      <td>credit_card</td>\n",
              "      <td>8.05</td>\n",
              "      <td>1.0</td>\n",
              "      <td>Current</td>\n",
              "    </tr>\n",
              "    <tr>\n",
              "      <th>887349</th>\n",
              "      <td>20000.0</td>\n",
              "      <td>6.99</td>\n",
              "      <td>2 years</td>\n",
              "      <td>MORTGAGE</td>\n",
              "      <td>72000.00</td>\n",
              "      <td>debt_consolidation</td>\n",
              "      <td>27.24</td>\n",
              "      <td>0.0</td>\n",
              "      <td>Current</td>\n",
              "    </tr>\n",
              "    <tr>\n",
              "      <th>887350</th>\n",
              "      <td>10300.0</td>\n",
              "      <td>13.66</td>\n",
              "      <td>10+ years</td>\n",
              "      <td>RENT</td>\n",
              "      <td>93600.00</td>\n",
              "      <td>debt_consolidation</td>\n",
              "      <td>15.72</td>\n",
              "      <td>1.0</td>\n",
              "      <td>Current</td>\n",
              "    </tr>\n",
              "    <tr>\n",
              "      <th>887351</th>\n",
              "      <td>4200.0</td>\n",
              "      <td>15.99</td>\n",
              "      <td>10+ years</td>\n",
              "      <td>MORTGAGE</td>\n",
              "      <td>48000.00</td>\n",
              "      <td>medical</td>\n",
              "      <td>36.93</td>\n",
              "      <td>0.0</td>\n",
              "      <td>Charged Off</td>\n",
              "    </tr>\n",
              "    <tr>\n",
              "      <th>887352</th>\n",
              "      <td>15000.0</td>\n",
              "      <td>11.99</td>\n",
              "      <td>&lt; 1 year</td>\n",
              "      <td>RENT</td>\n",
              "      <td>70000.00</td>\n",
              "      <td>debt_consolidation</td>\n",
              "      <td>8.47</td>\n",
              "      <td>0.0</td>\n",
              "      <td>Current</td>\n",
              "    </tr>\n",
              "    <tr>\n",
              "      <th>887353</th>\n",
              "      <td>15000.0</td>\n",
              "      <td>11.44</td>\n",
              "      <td>4 years</td>\n",
              "      <td>RENT</td>\n",
              "      <td>57000.00</td>\n",
              "      <td>debt_consolidation</td>\n",
              "      <td>15.77</td>\n",
              "      <td>0.0</td>\n",
              "      <td>Current</td>\n",
              "    </tr>\n",
              "    <tr>\n",
              "      <th>887354</th>\n",
              "      <td>6000.0</td>\n",
              "      <td>17.86</td>\n",
              "      <td>10+ years</td>\n",
              "      <td>MORTGAGE</td>\n",
              "      <td>90000.00</td>\n",
              "      <td>debt_consolidation</td>\n",
              "      <td>2.84</td>\n",
              "      <td>0.0</td>\n",
              "      <td>Current</td>\n",
              "    </tr>\n",
              "    <tr>\n",
              "      <th>887356</th>\n",
              "      <td>23000.0</td>\n",
              "      <td>15.59</td>\n",
              "      <td>10+ years</td>\n",
              "      <td>MORTGAGE</td>\n",
              "      <td>50000.00</td>\n",
              "      <td>credit_card</td>\n",
              "      <td>31.95</td>\n",
              "      <td>0.0</td>\n",
              "      <td>Current</td>\n",
              "    </tr>\n",
              "    <tr>\n",
              "      <th>887357</th>\n",
              "      <td>18700.0</td>\n",
              "      <td>17.86</td>\n",
              "      <td>10+ years</td>\n",
              "      <td>RENT</td>\n",
              "      <td>52000.00</td>\n",
              "      <td>debt_consolidation</td>\n",
              "      <td>11.28</td>\n",
              "      <td>0.0</td>\n",
              "      <td>Current</td>\n",
              "    </tr>\n",
              "    <tr>\n",
              "      <th>887358</th>\n",
              "      <td>25000.0</td>\n",
              "      <td>15.99</td>\n",
              "      <td>3 years</td>\n",
              "      <td>RENT</td>\n",
              "      <td>103000.00</td>\n",
              "      <td>debt_consolidation</td>\n",
              "      <td>5.27</td>\n",
              "      <td>0.0</td>\n",
              "      <td>Current</td>\n",
              "    </tr>\n",
              "    <tr>\n",
              "      <th>887360</th>\n",
              "      <td>26500.0</td>\n",
              "      <td>8.67</td>\n",
              "      <td>10+ years</td>\n",
              "      <td>MORTGAGE</td>\n",
              "      <td>92000.00</td>\n",
              "      <td>debt_consolidation</td>\n",
              "      <td>29.60</td>\n",
              "      <td>1.0</td>\n",
              "      <td>Current</td>\n",
              "    </tr>\n",
              "    <tr>\n",
              "      <th>887361</th>\n",
              "      <td>21000.0</td>\n",
              "      <td>6.03</td>\n",
              "      <td>10+ years</td>\n",
              "      <td>MORTGAGE</td>\n",
              "      <td>65000.00</td>\n",
              "      <td>credit_card</td>\n",
              "      <td>17.09</td>\n",
              "      <td>0.0</td>\n",
              "      <td>Current</td>\n",
              "    </tr>\n",
              "    <tr>\n",
              "      <th>887362</th>\n",
              "      <td>8000.0</td>\n",
              "      <td>8.19</td>\n",
              "      <td>9 years</td>\n",
              "      <td>MORTGAGE</td>\n",
              "      <td>50000.00</td>\n",
              "      <td>debt_consolidation</td>\n",
              "      <td>17.62</td>\n",
              "      <td>0.0</td>\n",
              "      <td>Current</td>\n",
              "    </tr>\n",
              "    <tr>\n",
              "      <th>887363</th>\n",
              "      <td>12000.0</td>\n",
              "      <td>9.49</td>\n",
              "      <td>4 years</td>\n",
              "      <td>RENT</td>\n",
              "      <td>40000.00</td>\n",
              "      <td>debt_consolidation</td>\n",
              "      <td>25.65</td>\n",
              "      <td>1.0</td>\n",
              "      <td>Current</td>\n",
              "    </tr>\n",
              "    <tr>\n",
              "      <th>887364</th>\n",
              "      <td>10775.0</td>\n",
              "      <td>6.03</td>\n",
              "      <td>&lt; 1 year</td>\n",
              "      <td>RENT</td>\n",
              "      <td>54000.00</td>\n",
              "      <td>debt_consolidation</td>\n",
              "      <td>13.22</td>\n",
              "      <td>1.0</td>\n",
              "      <td>Fully Paid</td>\n",
              "    </tr>\n",
              "    <tr>\n",
              "      <th>887365</th>\n",
              "      <td>7000.0</td>\n",
              "      <td>14.31</td>\n",
              "      <td>10+ years</td>\n",
              "      <td>RENT</td>\n",
              "      <td>57000.00</td>\n",
              "      <td>debt_consolidation</td>\n",
              "      <td>16.80</td>\n",
              "      <td>2.0</td>\n",
              "      <td>Current</td>\n",
              "    </tr>\n",
              "    <tr>\n",
              "      <th>887366</th>\n",
              "      <td>6225.0</td>\n",
              "      <td>16.49</td>\n",
              "      <td>2 years</td>\n",
              "      <td>RENT</td>\n",
              "      <td>27000.00</td>\n",
              "      <td>debt_consolidation</td>\n",
              "      <td>18.58</td>\n",
              "      <td>0.0</td>\n",
              "      <td>Fully Paid</td>\n",
              "    </tr>\n",
              "    <tr>\n",
              "      <th>887367</th>\n",
              "      <td>10000.0</td>\n",
              "      <td>6.49</td>\n",
              "      <td>1 year</td>\n",
              "      <td>RENT</td>\n",
              "      <td>75000.00</td>\n",
              "      <td>debt_consolidation</td>\n",
              "      <td>33.66</td>\n",
              "      <td>0.0</td>\n",
              "      <td>Current</td>\n",
              "    </tr>\n",
              "    <tr>\n",
              "      <th>887368</th>\n",
              "      <td>13150.0</td>\n",
              "      <td>14.99</td>\n",
              "      <td>8 years</td>\n",
              "      <td>MORTGAGE</td>\n",
              "      <td>30000.00</td>\n",
              "      <td>major_purchase</td>\n",
              "      <td>1.00</td>\n",
              "      <td>0.0</td>\n",
              "      <td>Current</td>\n",
              "    </tr>\n",
              "    <tr>\n",
              "      <th>887369</th>\n",
              "      <td>4000.0</td>\n",
              "      <td>8.67</td>\n",
              "      <td>10+ years</td>\n",
              "      <td>MORTGAGE</td>\n",
              "      <td>50000.00</td>\n",
              "      <td>car</td>\n",
              "      <td>12.63</td>\n",
              "      <td>0.0</td>\n",
              "      <td>Fully Paid</td>\n",
              "    </tr>\n",
              "    <tr>\n",
              "      <th>887370</th>\n",
              "      <td>7500.0</td>\n",
              "      <td>9.49</td>\n",
              "      <td>8 years</td>\n",
              "      <td>RENT</td>\n",
              "      <td>40000.00</td>\n",
              "      <td>debt_consolidation</td>\n",
              "      <td>25.63</td>\n",
              "      <td>0.0</td>\n",
              "      <td>Current</td>\n",
              "    </tr>\n",
              "    <tr>\n",
              "      <th>887372</th>\n",
              "      <td>12000.0</td>\n",
              "      <td>11.99</td>\n",
              "      <td>&lt; 1 year</td>\n",
              "      <td>MORTGAGE</td>\n",
              "      <td>63000.00</td>\n",
              "      <td>credit_card</td>\n",
              "      <td>23.69</td>\n",
              "      <td>1.0</td>\n",
              "      <td>Current</td>\n",
              "    </tr>\n",
              "    <tr>\n",
              "      <th>887373</th>\n",
              "      <td>11575.0</td>\n",
              "      <td>15.59</td>\n",
              "      <td>10+ years</td>\n",
              "      <td>RENT</td>\n",
              "      <td>25400.00</td>\n",
              "      <td>credit_card</td>\n",
              "      <td>27.08</td>\n",
              "      <td>0.0</td>\n",
              "      <td>Current</td>\n",
              "    </tr>\n",
              "    <tr>\n",
              "      <th>887374</th>\n",
              "      <td>10000.0</td>\n",
              "      <td>11.99</td>\n",
              "      <td>8 years</td>\n",
              "      <td>RENT</td>\n",
              "      <td>31000.00</td>\n",
              "      <td>debt_consolidation</td>\n",
              "      <td>28.69</td>\n",
              "      <td>0.0</td>\n",
              "      <td>Current</td>\n",
              "    </tr>\n",
              "    <tr>\n",
              "      <th>887375</th>\n",
              "      <td>24000.0</td>\n",
              "      <td>11.99</td>\n",
              "      <td>10+ years</td>\n",
              "      <td>MORTGAGE</td>\n",
              "      <td>79000.00</td>\n",
              "      <td>home_improvement</td>\n",
              "      <td>3.90</td>\n",
              "      <td>0.0</td>\n",
              "      <td>Current</td>\n",
              "    </tr>\n",
              "    <tr>\n",
              "      <th>887376</th>\n",
              "      <td>13000.0</td>\n",
              "      <td>15.99</td>\n",
              "      <td>5 years</td>\n",
              "      <td>RENT</td>\n",
              "      <td>35000.00</td>\n",
              "      <td>debt_consolidation</td>\n",
              "      <td>30.90</td>\n",
              "      <td>0.0</td>\n",
              "      <td>Current</td>\n",
              "    </tr>\n",
              "    <tr>\n",
              "      <th>887377</th>\n",
              "      <td>12000.0</td>\n",
              "      <td>19.99</td>\n",
              "      <td>1 year</td>\n",
              "      <td>RENT</td>\n",
              "      <td>64400.00</td>\n",
              "      <td>debt_consolidation</td>\n",
              "      <td>27.19</td>\n",
              "      <td>1.0</td>\n",
              "      <td>Current</td>\n",
              "    </tr>\n",
              "    <tr>\n",
              "      <th>887378</th>\n",
              "      <td>20000.0</td>\n",
              "      <td>11.99</td>\n",
              "      <td>10+ years</td>\n",
              "      <td>RENT</td>\n",
              "      <td>100000.00</td>\n",
              "      <td>credit_card</td>\n",
              "      <td>10.83</td>\n",
              "      <td>0.0</td>\n",
              "      <td>Current</td>\n",
              "    </tr>\n",
              "  </tbody>\n",
              "</table>\n",
              "<p>842525 rows × 9 columns</p>\n",
              "</div>"
            ],
            "text/plain": [
              "        loan_amnt  int_rate emp_length home_ownership  annual_inc  \\\n",
              "0          5000.0     10.65  10+ years           RENT    24000.00   \n",
              "1          2500.0     15.27   < 1 year           RENT    30000.00   \n",
              "2          2400.0     15.96  10+ years           RENT    12252.00   \n",
              "3         10000.0     13.49  10+ years           RENT    49200.00   \n",
              "4          3000.0     12.69     1 year           RENT    80000.00   \n",
              "5          5000.0      7.90    3 years           RENT    36000.00   \n",
              "6          7000.0     15.96    8 years           RENT    47004.00   \n",
              "7          3000.0     18.64    9 years           RENT    48000.00   \n",
              "8          5600.0     21.28    4 years            OWN    40000.00   \n",
              "9          5375.0     12.69   < 1 year           RENT    15000.00   \n",
              "10         6500.0     14.65    5 years            OWN    72000.00   \n",
              "11        12000.0     12.69  10+ years            OWN    75000.00   \n",
              "12         9000.0     13.49   < 1 year           RENT    30000.00   \n",
              "13         3000.0      9.91    3 years           RENT    15000.00   \n",
              "14        10000.0     10.65    3 years           RENT   100000.00   \n",
              "15         1000.0     16.29   < 1 year           RENT    28000.00   \n",
              "16        10000.0     15.27    4 years           RENT    42000.00   \n",
              "17         3600.0      6.03  10+ years       MORTGAGE   110000.00   \n",
              "18         6000.0     11.71     1 year       MORTGAGE    84000.00   \n",
              "19         9200.0      6.03    6 years           RENT    77385.19   \n",
              "20        20250.0     15.27    3 years           RENT    43370.00   \n",
              "21        21000.0     12.42  10+ years           RENT   105000.00   \n",
              "22        10000.0     11.71  10+ years            OWN    50000.00   \n",
              "23        10000.0     11.71    5 years           RENT    50000.00   \n",
              "24         6000.0     11.71     1 year           RENT    76000.00   \n",
              "25        15000.0      9.91    2 years       MORTGAGE    92000.00   \n",
              "26        15000.0     14.27    9 years           RENT    60000.00   \n",
              "27         5000.0     16.77    2 years           RENT    50004.00   \n",
              "28         4000.0     11.71  10+ years       MORTGAGE   106000.00   \n",
              "29         8500.0     11.71   < 1 year           RENT    25000.00   \n",
              "...           ...       ...        ...            ...         ...   \n",
              "887346     6000.0     10.49    4 years           RENT    42000.00   \n",
              "887347    17000.0     15.99  10+ years       MORTGAGE    63078.00   \n",
              "887348    13000.0      8.19  10+ years       MORTGAGE    85000.00   \n",
              "887349    20000.0      6.99    2 years       MORTGAGE    72000.00   \n",
              "887350    10300.0     13.66  10+ years           RENT    93600.00   \n",
              "887351     4200.0     15.99  10+ years       MORTGAGE    48000.00   \n",
              "887352    15000.0     11.99   < 1 year           RENT    70000.00   \n",
              "887353    15000.0     11.44    4 years           RENT    57000.00   \n",
              "887354     6000.0     17.86  10+ years       MORTGAGE    90000.00   \n",
              "887356    23000.0     15.59  10+ years       MORTGAGE    50000.00   \n",
              "887357    18700.0     17.86  10+ years           RENT    52000.00   \n",
              "887358    25000.0     15.99    3 years           RENT   103000.00   \n",
              "887360    26500.0      8.67  10+ years       MORTGAGE    92000.00   \n",
              "887361    21000.0      6.03  10+ years       MORTGAGE    65000.00   \n",
              "887362     8000.0      8.19    9 years       MORTGAGE    50000.00   \n",
              "887363    12000.0      9.49    4 years           RENT    40000.00   \n",
              "887364    10775.0      6.03   < 1 year           RENT    54000.00   \n",
              "887365     7000.0     14.31  10+ years           RENT    57000.00   \n",
              "887366     6225.0     16.49    2 years           RENT    27000.00   \n",
              "887367    10000.0      6.49     1 year           RENT    75000.00   \n",
              "887368    13150.0     14.99    8 years       MORTGAGE    30000.00   \n",
              "887369     4000.0      8.67  10+ years       MORTGAGE    50000.00   \n",
              "887370     7500.0      9.49    8 years           RENT    40000.00   \n",
              "887372    12000.0     11.99   < 1 year       MORTGAGE    63000.00   \n",
              "887373    11575.0     15.59  10+ years           RENT    25400.00   \n",
              "887374    10000.0     11.99    8 years           RENT    31000.00   \n",
              "887375    24000.0     11.99  10+ years       MORTGAGE    79000.00   \n",
              "887376    13000.0     15.99    5 years           RENT    35000.00   \n",
              "887377    12000.0     19.99     1 year           RENT    64400.00   \n",
              "887378    20000.0     11.99  10+ years           RENT   100000.00   \n",
              "\n",
              "                   purpose    dti  delinq_2yrs  loan_status  \n",
              "0              credit_card  27.65          0.0   Fully Paid  \n",
              "1                      car   1.00          0.0  Charged Off  \n",
              "2           small_business   8.72          0.0   Fully Paid  \n",
              "3                    other  20.00          0.0   Fully Paid  \n",
              "4                    other  17.94          0.0      Current  \n",
              "5                  wedding  11.20          0.0   Fully Paid  \n",
              "6       debt_consolidation  23.51          0.0      Current  \n",
              "7                      car   5.35          0.0   Fully Paid  \n",
              "8           small_business   5.55          0.0  Charged Off  \n",
              "9                    other  18.08          0.0  Charged Off  \n",
              "10      debt_consolidation  16.12          0.0   Fully Paid  \n",
              "11      debt_consolidation  10.78          0.0   Fully Paid  \n",
              "12      debt_consolidation  10.08          0.0  Charged Off  \n",
              "13             credit_card  12.56          0.0   Fully Paid  \n",
              "14                   other   7.06          0.0  Charged Off  \n",
              "15      debt_consolidation  20.31          0.0   Fully Paid  \n",
              "16        home_improvement  18.60          0.0   Fully Paid  \n",
              "17          major_purchase  10.52          0.0   Fully Paid  \n",
              "18                 medical  18.44          2.0   Fully Paid  \n",
              "19      debt_consolidation   9.86          0.0   Fully Paid  \n",
              "20      debt_consolidation  26.53          0.0   Fully Paid  \n",
              "21      debt_consolidation  13.22          0.0  Charged Off  \n",
              "22             credit_card  11.18          0.0   Fully Paid  \n",
              "23      debt_consolidation  16.01          0.0   Fully Paid  \n",
              "24          major_purchase   2.40          0.0  Charged Off  \n",
              "25             credit_card  29.44          0.0   Fully Paid  \n",
              "26      debt_consolidation  15.22          0.0  Charged Off  \n",
              "27                   other  13.97          3.0  Charged Off  \n",
              "28      debt_consolidation   5.63          1.0   Fully Paid  \n",
              "29             credit_card  12.19          0.0   Fully Paid  \n",
              "...                    ...    ...          ...          ...  \n",
              "887346  debt_consolidation  10.66          0.0   Fully Paid  \n",
              "887347  debt_consolidation  31.70          0.0   Fully Paid  \n",
              "887348         credit_card   8.05          1.0      Current  \n",
              "887349  debt_consolidation  27.24          0.0      Current  \n",
              "887350  debt_consolidation  15.72          1.0      Current  \n",
              "887351             medical  36.93          0.0  Charged Off  \n",
              "887352  debt_consolidation   8.47          0.0      Current  \n",
              "887353  debt_consolidation  15.77          0.0      Current  \n",
              "887354  debt_consolidation   2.84          0.0      Current  \n",
              "887356         credit_card  31.95          0.0      Current  \n",
              "887357  debt_consolidation  11.28          0.0      Current  \n",
              "887358  debt_consolidation   5.27          0.0      Current  \n",
              "887360  debt_consolidation  29.60          1.0      Current  \n",
              "887361         credit_card  17.09          0.0      Current  \n",
              "887362  debt_consolidation  17.62          0.0      Current  \n",
              "887363  debt_consolidation  25.65          1.0      Current  \n",
              "887364  debt_consolidation  13.22          1.0   Fully Paid  \n",
              "887365  debt_consolidation  16.80          2.0      Current  \n",
              "887366  debt_consolidation  18.58          0.0   Fully Paid  \n",
              "887367  debt_consolidation  33.66          0.0      Current  \n",
              "887368      major_purchase   1.00          0.0      Current  \n",
              "887369                 car  12.63          0.0   Fully Paid  \n",
              "887370  debt_consolidation  25.63          0.0      Current  \n",
              "887372         credit_card  23.69          1.0      Current  \n",
              "887373         credit_card  27.08          0.0      Current  \n",
              "887374  debt_consolidation  28.69          0.0      Current  \n",
              "887375    home_improvement   3.90          0.0      Current  \n",
              "887376  debt_consolidation  30.90          0.0      Current  \n",
              "887377  debt_consolidation  27.19          1.0      Current  \n",
              "887378         credit_card  10.83          0.0      Current  \n",
              "\n",
              "[842525 rows x 9 columns]"
            ]
          },
          "metadata": {
            "tags": []
          },
          "execution_count": 13
        }
      ]
    },
    {
      "metadata": {
        "_uuid": "a7e86ee569533be9cc154f2379f1b59950da85cb",
        "colab_type": "code",
        "id": "Ao41aj4EAwdd",
        "outputId": "7b606426-a5bd-48aa-a57f-0af1ce8f0ba1",
        "colab": {}
      },
      "cell_type": "code",
      "source": [
        "# print unique statuses in the loan status column (dependent variable)\n",
        "df_LC['loan_status'].unique()"
      ],
      "execution_count": 0,
      "outputs": [
        {
          "output_type": "execute_result",
          "data": {
            "text/plain": [
              "array(['Fully Paid', 'Charged Off', 'Current', 'Default',\n",
              "       'Late (31-120 days)', 'In Grace Period', 'Late (16-30 days)',\n",
              "       'Does not meet the credit policy. Status:Fully Paid',\n",
              "       'Does not meet the credit policy. Status:Charged Off', 'Issued'],\n",
              "      dtype=object)"
            ]
          },
          "metadata": {
            "tags": []
          },
          "execution_count": 14
        }
      ]
    },
    {
      "metadata": {
        "_uuid": "3213c7515944ce86d26ebdf6f241dc26babe5dd4",
        "colab_type": "text",
        "id": "aurJ2-yfAwde"
      },
      "cell_type": "markdown",
      "source": [
        "### Distribution of the loan status values\n",
        "Let us now see how the values in the status column are distributed. We will plot an histogram of values against count of times the status appears on the dataframe"
      ]
    },
    {
      "metadata": {
        "_uuid": "f09a6568a162d0ae5be915d11a501c69ef126a13",
        "colab_type": "code",
        "id": "mdXzKglQAwdf",
        "outputId": "cff32e42-e750-4a14-b67f-127d4b5367f0",
        "colab": {}
      },
      "cell_type": "code",
      "source": [
        "m = df_LC['loan_status'].value_counts()\n",
        "m = m.to_frame()\n",
        "m.reset_index(inplace=True)\n",
        "m.columns = ['Loan Status','Count']\n",
        "plt.subplots(figsize=(15,8))\n",
        "sns.barplot(y='Count', x='Loan Status', data=m)\n",
        "plt.xlabel(\"Length\")\n",
        "plt.ylabel(\"Count\")\n",
        "plt.title(\"Distribution of Loan Status in our Dataset\")\n",
        "plt.show()"
      ],
      "execution_count": 0,
      "outputs": [
        {
          "output_type": "display_data",
          "data": {
            "image/png": "[encoded data removed]",
            "text/plain": [
              "<Figure size 1080x576 with 1 Axes>"
            ]
          },
          "metadata": {
            "tags": [],
            "needs_background": "light"
          }
        }
      ]
    },
    {
      "metadata": {
        "_uuid": "0da0de61d8ef101102de7e03d706b87ae42e2c87",
        "colab_type": "text",
        "id": "k4FKmCr6Awdh"
      },
      "cell_type": "markdown",
      "source": [
        "As you can see, we have a lot of loans which are current with fair amount of fully paid loans. other categories (including) default have a really low number. This means the data is imbalanced and we might need to do something about this later in the analysis. For now we will drop all the columns except 'Fully Paid', 'Default' and 'Charged off'. We will also merge 'Charged off' and 'Default' together meaning that anyone who fell into this category defaulted their loan. The following two parts tries to implement this."
      ]
    },
    {
      "metadata": {
        "_uuid": "3766eca19f3822bf1fb55811f3f1cd6fc1665623",
        "colab_type": "code",
        "id": "DxizKNkGAwdj",
        "colab": {}
      },
      "cell_type": "code",
      "source": [
        "df_LC = df_LC[df_LC.loan_status != 'Current']\n",
        "df_LC = df_LC[df_LC.loan_status != 'In Grace Period']\n",
        "df_LC = df_LC[df_LC.loan_status != 'Late (16-30 days)']\n",
        "df_LC = df_LC[df_LC.loan_status != 'Late (31-120 days)']\n",
        "df_LC = df_LC[df_LC.loan_status != 'Does not meet the credit policy. Status:Fully Paid']\n",
        "df_LC = df_LC[df_LC.loan_status != 'Does not meet the credit policy. Status:Charged Off']\n",
        "df_LC = df_LC[df_LC.loan_status != 'Issued']"
      ],
      "execution_count": 0,
      "outputs": []
    },
    {
      "metadata": {
        "_uuid": "926468e01b192d8ff64dfb3c059fd2cbbe7dc7c4",
        "colab_type": "code",
        "id": "mUvPmUYOAwdl",
        "outputId": "12b4969c-a753-4558-f13c-e8847d2c48c7",
        "colab": {}
      },
      "cell_type": "code",
      "source": [
        "df_LC['loan_status'] = df_LC['loan_status'].replace({'Charged Off':'Default'})\n",
        "df_LC['loan_status'].value_counts()"
      ],
      "execution_count": 0,
      "outputs": [
        {
          "output_type": "execute_result",
          "data": {
            "text/plain": [
              "Fully Paid    207723\n",
              "Default        46467\n",
              "Name: loan_status, dtype: int64"
            ]
          },
          "metadata": {
            "tags": []
          },
          "execution_count": 18
        }
      ]
    },
    {
      "metadata": {
        "_uuid": "9a59890269d1fa160ddaeae971492dfb92a93480",
        "colab_type": "text",
        "id": "fEAReWdJAwdq"
      },
      "cell_type": "markdown",
      "source": [
        "We will now encode the two categories listed above as 0 or 1 for our analysis. This will help us in predicting whether a person defaulted their loan or not. 0 means he deaulted and 1 means he paid off his loan."
      ]
    },
    {
      "metadata": {
        "_uuid": "cf8f49193546656f8ecbd46ec655af3f0fece460",
        "colab_type": "code",
        "id": "Ho1GD3BEAwdq",
        "outputId": "ab36ca7e-46e5-4b7c-d69a-0e8f8f6ef756",
        "colab": {}
      },
      "cell_type": "code",
      "source": [
        "df_LC.loan_status=df_LC.loan_status.astype('category').cat.codes\n",
        "df_LC.delinq_2yrs=df_LC.delinq_2yrs.astype('category').cat.codes\n",
        "df_LC.head()\n",
        "df_LC['loan_status'].value_counts()\n",
        "#df_LC = pd.get_dummies(df_LC, drop_first=True)\n",
        "#df_LC"
      ],
      "execution_count": 0,
      "outputs": [
        {
          "output_type": "execute_result",
          "data": {
            "text/plain": [
              "1    207723\n",
              "0     46467\n",
              "Name: loan_status, dtype: int64"
            ]
          },
          "metadata": {
            "tags": []
          },
          "execution_count": 19
        }
      ]
    },
    {
      "metadata": {
        "_uuid": "a92d783993991cc6ba81efc32f0fe4bcffb2fdc0",
        "colab_type": "code",
        "id": "ntuPtlAwAwdv",
        "outputId": "514f0a2d-a5de-4b42-f92d-419ca268ffda",
        "colab": {}
      },
      "cell_type": "code",
      "source": [
        "df_LC.dtypes"
      ],
      "execution_count": 0,
      "outputs": [
        {
          "output_type": "execute_result",
          "data": {
            "text/plain": [
              "loan_amnt         float64\n",
              "int_rate          float64\n",
              "emp_length         object\n",
              "home_ownership     object\n",
              "annual_inc        float64\n",
              "purpose            object\n",
              "dti               float64\n",
              "delinq_2yrs          int8\n",
              "loan_status          int8\n",
              "dtype: object"
            ]
          },
          "metadata": {
            "tags": []
          },
          "execution_count": 20
        }
      ]
    },
    {
      "metadata": {
        "_uuid": "d27cc399aecfe4618a8c06a41c05e5c0ce6a7c99",
        "colab_type": "text",
        "id": "89MhG-XYAwdy"
      },
      "cell_type": "markdown",
      "source": [
        "### Transformation\n",
        "Before training the data, we would first transform the data to account for any skewness in the variable distribution. Various transformation techniques ranging from log transform to power transformation are available. For our analysis, we'll be using Box-cox transformation. It is used to modify the distributional shape of a set of data to be more normally distributed so that tests and confidence limits that require normality can be appropriately used."
      ]
    },
    {
      "metadata": {
        "_uuid": "cce52461f8fbd199cf5f040dff202a7b80314997",
        "colab_type": "code",
        "id": "sSoYmKUuAwdz",
        "colab": {}
      },
      "cell_type": "code",
      "source": [
        "numerical = df_LC.columns[df_LC.dtypes == 'float64']\n",
        "for i in numerical:\n",
        "    if df_LC[i].min() > 0:\n",
        "        transformed, lamb = boxcox(df_LC.loc[df[i].notnull(), i])\n",
        "        if np.abs(1 - lamb) > 0.02:\n",
        "            df_LC.loc[df[i].notnull(), i] = transformed"
      ],
      "execution_count": 0,
      "outputs": []
    },
    {
      "metadata": {
        "_uuid": "7ead37e75ebe651a1d89ccd0c89d5a3791b1336c",
        "colab_type": "text",
        "id": "N7ayQ3IgAwd1"
      },
      "cell_type": "markdown",
      "source": [
        "### One Hot Encoding\n",
        "Since we have some categorical variables for the analysis and the machne learning algorithms doesn't take categorical and string variables directly, we have to creat dummy variables for them. We can either encode them using label encoder available for python, but it would be wrong in our analysis since a lot of these variables have multiple categories. Just using weights can cause discrepencies in the algorithm. Instead, we will one hot encode these so that we have a 1 wherever that category turns up and 0 otherwise. This will also create seperate columns for each level of category. Also, we'll be dropping one of the categories so that we have N-1 columns instead of N."
      ]
    },
    {
      "metadata": {
        "_uuid": "5d52d8efa085fcdeba318eae3081d8068f3ff7a9",
        "colab_type": "code",
        "id": "LohIcn1IAwd2",
        "colab": {}
      },
      "cell_type": "code",
      "source": [
        "df_LC = pd.get_dummies(df_LC, drop_first=True)"
      ],
      "execution_count": 0,
      "outputs": []
    },
    {
      "metadata": {
        "_uuid": "ae94c89ad888f74440a5995420a38bca1ecdc6ad",
        "colab_type": "text",
        "id": "UHHGiCsYAwd5"
      },
      "cell_type": "markdown",
      "source": [
        "Now splitting the data using scikitlearn's train_test_split and using 60% data for training and 40% for testing."
      ]
    },
    {
      "metadata": {
        "_uuid": "507a8a6b685d1258980081c945a1fcf082f0767e",
        "colab_type": "code",
        "id": "4yzq8gx3Awd5",
        "colab": {}
      },
      "cell_type": "code",
      "source": [
        "traindata, testdata = train_test_split(df_LC, stratify=df_LC['loan_status'],test_size=.4, random_state=17)\n",
        "testdata.reset_index(drop=True, inplace=True)\n",
        "traindata.reset_index(drop=True, inplace=True)"
      ],
      "execution_count": 0,
      "outputs": []
    },
    {
      "metadata": {
        "_uuid": "7793b16c567badbe044c2d8f50c32964a184a866",
        "colab_type": "text",
        "id": "jFMpsg2GAwd8"
      },
      "cell_type": "markdown",
      "source": [
        "We'll now scale the data so that each column has a mean of zero and unit standard deviation. Xunb (unbalanced set) and yunb are the independent and target variable."
      ]
    },
    {
      "metadata": {
        "_uuid": "075d4aae882158c4ecad2663271d65c4b84821c4",
        "colab_type": "code",
        "id": "gp7umjeBAwd8",
        "colab": {}
      },
      "cell_type": "code",
      "source": [
        "sc = StandardScaler()\n",
        "Xunb = traindata.drop('loan_status', axis=1)\n",
        "yunb = traindata['loan_status']\n",
        "numerical = Xunb.columns[(Xunb.dtypes == 'float64') | (Xunb.dtypes == 'int64')].tolist()\n",
        "Xunb[numerical] = sc.fit_transform(Xunb[numerical])"
      ],
      "execution_count": 0,
      "outputs": []
    },
    {
      "metadata": {
        "_uuid": "693be2a52646a174020d3d463ebc80525ce25c0d",
        "colab_type": "code",
        "id": "mXBw3COeAwd_",
        "outputId": "c6d33301-5220-4bd7-c264-ba250e765964",
        "colab": {}
      },
      "cell_type": "code",
      "source": [
        "# preview the shape of training data\n",
        "yunb.shape"
      ],
      "execution_count": 0,
      "outputs": [
        {
          "output_type": "execute_result",
          "data": {
            "text/plain": [
              "(152514,)"
            ]
          },
          "metadata": {
            "tags": []
          },
          "execution_count": 25
        }
      ]
    },
    {
      "metadata": {
        "_uuid": "5dd154652ee8744a53e97daeaf31b3ece2aefc17",
        "colab_type": "text",
        "id": "JCBoRCysAweB"
      },
      "cell_type": "markdown",
      "source": [
        "### Model Selection\n",
        "\n",
        "We are now ready to build some models. The following would be our approach for building and selecting the best model:\n",
        "\n",
        "1. Build a model on the imbalance dataset we got from data cleaning.\n",
        "2. Balance the dataset by using equal amount of default and 'fully paid' loans.\n",
        "\n",
        "#### Trying the Unbalanced Dataset\n",
        "\n",
        "Let's first try the unbalanced dataset.The function below computes the receiver operating characteristic (ROC) curves for each of the models. This function will be called later in the analysis."
      ]
    },
    {
      "metadata": {
        "_uuid": "9bc3b219444c428060ffb560051a3268ff1ea400",
        "colab_type": "code",
        "id": "38Csv51uAweB",
        "colab": {}
      },
      "cell_type": "code",
      "source": [
        "# roc curve to find a good model that optimizes the trade off between\n",
        "# the False Positive Rate (FPR) and True Positive Rate (TPR)\n",
        "def createROC(models, X, y, Xte, yte):\n",
        "    false_p, true_p = [], [] # false postives and true positives\n",
        "\n",
        "    for i in models.keys():  # dict of models\n",
        "        models[i].fit(X, y)\n",
        "\n",
        "        fp, tp, threshold = roc_curve(yte, models[i].predict_proba(Xte)[:,1]) # roc_curve function\n",
        "\n",
        "        true_p.append(tp)\n",
        "        false_p.append(fp)\n",
        "    return true_p, false_p # returning the true postive and false positive"
      ],
      "execution_count": 0,
      "outputs": []
    },
    {
      "metadata": {
        "_uuid": "05a39621bff3e85ea65af9b410b4a164791b0f01",
        "colab_type": "text",
        "id": "lUg1AjfZAweF"
      },
      "cell_type": "markdown",
      "source": [
        "Let's try some models on the train dataset With 3 fold cross validation. We are going to use the following 4 machine learning algorithms:\n",
        "1. Linear Discriminant Analysis\n",
        "2. Multinomial Naive Bayes\n",
        "3. Random Forest (tree based model)\n",
        "4. Logistic Regression"
      ]
    },
    {
      "metadata": {
        "_uuid": "e5b886a58820afb97ccff921d503a0dd030ef0af",
        "colab_type": "code",
        "id": "LL1IjLqqAweF",
        "outputId": "d8cd6591-54dd-41eb-9ab9-168ff6148602",
        "colab": {}
      },
      "cell_type": "code",
      "source": [
        "from sklearn.discriminant_analysis import LinearDiscriminantAnalysis\n",
        "from sklearn.ensemble import RandomForestClassifier\n",
        "from sklearn.linear_model import LogisticRegression\n",
        "from sklearn.naive_bayes import MultinomialNB\n",
        "\n",
        "models = {'LDA': LinearDiscriminantAnalysis(),\n",
        "          'MNB': MultinomialNB(),\n",
        "          'RF': RandomForestClassifier(n_estimators=100),\n",
        "          'LR': LogisticRegression(C=1)}\n",
        "\n",
        "unbalset = {}\n",
        "for i in models.keys():\n",
        "    scores = cross_val_score(models[i], Xunb - np.min(Xunb) + 1,\n",
        "                                    yunb, cv=3)\n",
        "    unbalset[i] = scores\n",
        "    print(i, scores, np.mean(scores))"
      ],
      "execution_count": 0,
      "outputs": [
        {
          "output_type": "stream",
          "text": [
            "/Users/claireleannesaunders/anaconda3/lib/python3.7/site-packages/sklearn/discriminant_analysis.py:388: UserWarning: Variables are collinear.\n",
            "  warnings.warn(\"Variables are collinear.\")\n"
          ],
          "name": "stderr"
        },
        {
          "output_type": "stream",
          "text": [
            "LDA [0.81750231 0.81720367 0.81773118] 0.8174790526041468\n",
            "MNB [0.81718759 0.81720367 0.81720007] 0.8171971098553484\n",
            "RF [0.81211275 0.81185334 0.81411177] 0.8126926183761549\n"
          ],
          "name": "stdout"
        },
        {
          "output_type": "stream",
          "text": [
            "/Users/claireleannesaunders/anaconda3/lib/python3.7/site-packages/sklearn/linear_model/logistic.py:433: FutureWarning: Default solver will be changed to 'lbfgs' in 0.22. Specify a solver to silence this warning.\n",
            "  FutureWarning)\n",
            "/Users/claireleannesaunders/anaconda3/lib/python3.7/site-packages/sklearn/linear_model/logistic.py:433: FutureWarning: Default solver will be changed to 'lbfgs' in 0.22. Specify a solver to silence this warning.\n",
            "  FutureWarning)\n",
            "/Users/claireleannesaunders/anaconda3/lib/python3.7/site-packages/sklearn/linear_model/logistic.py:433: FutureWarning: Default solver will be changed to 'lbfgs' in 0.22. Specify a solver to silence this warning.\n",
            "  FutureWarning)\n"
          ],
          "name": "stderr"
        },
        {
          "output_type": "stream",
          "text": [
            "LR [0.81726627 0.81773477 0.81767217] 0.8175577350662624\n"
          ],
          "name": "stdout"
        }
      ]
    },
    {
      "metadata": {
        "_uuid": "16f95e9b9dc15d98a1bb6811638ea503b08170e1",
        "colab_type": "text",
        "id": "8og2IuScAweI"
      },
      "cell_type": "markdown",
      "source": [
        "Looks like Logistic regression provides the best estimate and almost all of the models giving the same results. Because of the issue of collinearity in LDA, we are going to ignore that.\n",
        "\n",
        "Now creating the test set for the analysis and scaling it."
      ]
    },
    {
      "metadata": {
        "_uuid": "6c32a1a2084883869c97a738fab0626106ad384f",
        "colab_type": "code",
        "id": "G53NDdiwAweJ",
        "colab": {}
      },
      "cell_type": "code",
      "source": [
        "Xte = testdata.drop('loan_status', axis=1)\n",
        "yte = testdata['loan_status']\n",
        "numerical = Xte.columns[(Xte.dtypes == 'float64') | (Xte.dtypes == 'int64')].tolist()\n",
        "Xte[numerical] = sc.fit_transform(Xte[numerical])"
      ],
      "execution_count": 0,
      "outputs": []
    },
    {
      "metadata": {
        "_uuid": "c57243b70773f1252c9de72944edda9b09750a95",
        "colab_type": "text",
        "id": "chtrxCmdAweL"
      },
      "cell_type": "markdown",
      "source": [
        "Computing the ROC curves for the models and finding the true positive and false positives."
      ]
    },
    {
      "metadata": {
        "_uuid": "996b3f8e3b317f08c9670183f07d6504b8bf2677",
        "colab_type": "code",
        "id": "jk6H_bx4AweM",
        "outputId": "83983069-5655-4f0c-d0ed-1d85c97b079c",
        "colab": {}
      },
      "cell_type": "code",
      "source": [
        "tp_unbalset, fp_unbalset = createROC(models, Xunb - np.min(Xunb) + 1, yunb, Xte - np.min(Xte) + 1, yte)"
      ],
      "execution_count": 0,
      "outputs": [
        {
          "output_type": "stream",
          "text": [
            "/Users/claireleannesaunders/anaconda3/lib/python3.7/site-packages/sklearn/linear_model/logistic.py:433: FutureWarning: Default solver will be changed to 'lbfgs' in 0.22. Specify a solver to silence this warning.\n",
            "  FutureWarning)\n"
          ],
          "name": "stderr"
        }
      ]
    },
    {
      "metadata": {
        "_uuid": "c4e21f84d3bc3d6e20448728bf852846bd1f9789",
        "colab_type": "text",
        "id": "kmiq0O8jAweQ"
      },
      "cell_type": "markdown",
      "source": [
        "Fitting LR to the test set."
      ]
    },
    {
      "metadata": {
        "_uuid": "dc370d28934d0e96393085c1389097f61c456356",
        "colab_type": "code",
        "id": "ISJ-veyLAweR",
        "outputId": "66564a64-e43f-48f6-efe5-ddabefd775cc",
        "colab": {}
      },
      "cell_type": "code",
      "source": [
        "model =  LogisticRegression(C=1)\n",
        "model.fit(Xunb, yunb)\n",
        "predict = model.predict(Xte) # prediction of Xte which can be used to test against yte (testdata values or true values of y)"
      ],
      "execution_count": 0,
      "outputs": [
        {
          "output_type": "stream",
          "text": [
            "/Users/claireleannesaunders/anaconda3/lib/python3.7/site-packages/sklearn/linear_model/logistic.py:433: FutureWarning: Default solver will be changed to 'lbfgs' in 0.22. Specify a solver to silence this warning.\n",
            "  FutureWarning)\n"
          ],
          "name": "stderr"
        }
      ]
    },
    {
      "metadata": {
        "_uuid": "be3e8f63aaed57ea9044ac9c7eaab5c0b0679d3c",
        "colab_type": "code",
        "id": "-m-Z2dvZAweU",
        "outputId": "8797ef48-3d01-4adf-eebf-22970739416b",
        "colab": {}
      },
      "cell_type": "code",
      "source": [
        "m = yte.to_frame()\n",
        "m['loan_status'].value_counts()"
      ],
      "execution_count": 0,
      "outputs": [
        {
          "output_type": "execute_result",
          "data": {
            "text/plain": [
              "1    83089\n",
              "0    18587\n",
              "Name: loan_status, dtype: int64"
            ]
          },
          "metadata": {
            "tags": []
          },
          "execution_count": 31
        }
      ]
    },
    {
      "metadata": {
        "_uuid": "559fc3208b835454bc6647b741a137a60c125298",
        "colab_type": "text",
        "id": "7PEmsbYXAweX"
      },
      "cell_type": "markdown",
      "source": [
        "We will now plot the cross-validation scores, ROC curves and confusion matrix of random forest model. X axis is the true value and Y axis is the predicted value. "
      ]
    },
    {
      "metadata": {
        "_uuid": "f3ab0ae2bfc0216189a32c97239b61e0e0b77a2d",
        "colab_type": "code",
        "id": "YtTOGPCKAweZ",
        "outputId": "86101d38-a7da-4703-a610-cb526e1b74fc",
        "colab": {}
      },
      "cell_type": "code",
      "source": [
        "fig, axes = plt.subplots(nrows=1, ncols=3, figsize=(18,5))\n",
        "\n",
        "ax = pd.DataFrame(unbalset).boxplot(widths=(0.9,0.9,0.9,0.9), grid=False, vert=False, ax=axes[0])\n",
        "ax.set_ylabel('Classifier')\n",
        "ax.set_xlabel('Cross-Validation Score')\n",
        "\n",
        "for i in range(0, len(tp_unbalset)):\n",
        "    axes[1].plot(fp_unbalset[i], tp_unbalset[i], lw=1)\n",
        "\n",
        "axes[1].plot([0, 1], [0, 1], '--k', lw=1)\n",
        "axes[1].legend(models.keys())\n",
        "axes[1].set_ylabel('True Positive Rate')\n",
        "axes[1].set_xlabel('False Positive Rate')\n",
        "axes[1].set_xlim(0,1)\n",
        "axes[1].set_ylim(0,1)\n",
        "\n",
        "cm = confusion_matrix(yte, predict).T\n",
        "cm = cm.astype('float')/cm.sum(axis=0)\n",
        "\n",
        "ax = sns.heatmap(cm, annot=True, cmap='YlGnBu', ax=axes[2]);\n",
        "ax.set_xlabel('True Value')\n",
        "ax.set_ylabel('Predicted Value')\n",
        "ax.axis('equal')"
      ],
      "execution_count": 0,
      "outputs": [
        {
          "output_type": "execute_result",
          "data": {
            "text/plain": [
              "(0.0, 2.0, 2.0, 0.0)"
            ]
          },
          "metadata": {
            "tags": []
          },
          "execution_count": 62
        },
        {
          "output_type": "display_data",
          "data": {
            "image/png": "[encoded data removed]",
            "text/plain": [
              "<Figure size 1296x360 with 4 Axes>"
            ]
          },
          "metadata": {
            "tags": [],
            "needs_background": "light"
          }
        }
      ]
    },
    {
      "metadata": {
        "_uuid": "56b570f83d9a6377b4e13746cef91f39547559cc",
        "colab_type": "text",
        "id": "nWPuFTYyAweb"
      },
      "cell_type": "markdown",
      "source": [
        "The cross-validation scores and ROC curves suggest the Logistic Regression is the best model, though the MNB and linear discriminant analysis models are pretty close behind. If we look at the confusion matrix, though, we see a big problem.The model can predict who are going to pay off the loan with a good accuracy of 99% but cannot predict who are going to default. The true positive rate of default (0 predicting 0) is almost 0. Since our main goal is to predict defaulter's, we have to do something about this. \n",
        "\n",
        "The reason this is happening could be because of high imbalance in our dataset and the algorithm is putting everything into 1. We have to chose a new prediction threshold according to the sensitivity and specificity of the model. This will create some balance in predicting the binary outcome. Let's look at the plots below."
      ]
    },
    {
      "metadata": {
        "_uuid": "ef04d2bcfb45251a6dba9a4996886a03fd83a71f",
        "colab_type": "code",
        "id": "ZAajjXojAwec",
        "colab": {}
      },
      "cell_type": "code",
      "source": [
        "fp, tp, threshold = roc_curve(yte, model.predict_proba(Xte)[:,1]) #getting false and true positive from test set"
      ],
      "execution_count": 0,
      "outputs": []
    },
    {
      "metadata": {
        "_uuid": "b6aac5d9a0c272e0fe726b6183ef1dfeec5a1453",
        "colab_type": "code",
        "id": "GR6jceUAAwee",
        "outputId": "2e9d1625-1e08-440d-a56d-d36afe5f6e4b",
        "colab": {}
      },
      "cell_type": "code",
      "source": [
        "fig, ax = plt.subplots(nrows=1, ncols=2, figsize=(16,6))\n",
        "\n",
        "ax[0].plot(threshold, tp + (1 - fp))\n",
        "ax[0].set_xlabel('Threshold')\n",
        "ax[0].set_ylabel('Sensitivity + Specificity')\n",
        "\n",
        "ax[1].plot(threshold, tp, label=\"tp\")\n",
        "ax[1].plot(threshold, 1 - fp, label=\"1 - fp\")\n",
        "ax[1].legend()\n",
        "ax[1].set_xlabel('Threshold')\n",
        "ax[1].set_ylabel('True Positive & False Positive Rates')"
      ],
      "execution_count": 0,
      "outputs": [
        {
          "output_type": "execute_result",
          "data": {
            "text/plain": [
              "Text(0, 0.5, 'True Positive & False Positive Rates')"
            ]
          },
          "metadata": {
            "tags": []
          },
          "execution_count": 34
        },
        {
          "output_type": "display_data",
          "data": {
            "image/png": "[encoded data removed]",
            "text/plain": [
              "<Figure size 1152x432 with 2 Axes>"
            ]
          },
          "metadata": {
            "tags": [],
            "needs_background": "light"
          }
        }
      ]
    },
    {
      "metadata": {
        "_uuid": "07d968e9f133133dd1fa9c867433d7d528c6448d",
        "colab_type": "code",
        "id": "GjpdGZQ1Aweg",
        "outputId": "f31f9b08-49c8-431d-bfa0-dea93756badf",
        "colab": {}
      },
      "cell_type": "code",
      "source": [
        "# finding the optimal threshold for the model \n",
        "function = tp + (1 - fp)\n",
        "index = np.argmax(function)\n",
        "\n",
        "optimal_threshold = threshold[np.argmax(function)]\n",
        "print('optimal threshold:', optimal_threshold)"
      ],
      "execution_count": 0,
      "outputs": [
        {
          "output_type": "stream",
          "text": [
            "optimal threshold: 0.8079914859607571\n"
          ],
          "name": "stdout"
        }
      ]
    },
    {
      "metadata": {
        "_uuid": "cfabfe2f5debf9b08cfe5c662dfc7fcccbf17e95",
        "colab_type": "text",
        "id": "FnRIAPi7Awen"
      },
      "cell_type": "markdown",
      "source": [
        "The optimal threshold above is where the the two graphs meet.\n",
        "\n",
        "1. Sensitivity (also called the true positive rate, the recall, or probability of detection in some fields) measures the proportion of actual positives that are correctly identified as such (e.g., the percentage of sick people who are correctly identified as having the condition).\n",
        "\n",
        "2. Specificity (also called the true negative rate) measures the proportion of actual negatives that are correctly identified as such (e.g., the percentage of healthy people who are correctly identified as not having the condition)\n",
        "\n",
        "Now using this threshold for the model:"
      ]
    },
    {
      "metadata": {
        "_uuid": "22dc3b8859cd46e4510136efa50ff057dd22528d",
        "colab_type": "code",
        "id": "ScNpY7O4Aweo",
        "outputId": "af08a072-d364-4e54-bb56-76f85a952057",
        "colab": {}
      },
      "cell_type": "code",
      "source": [
        "predict = model.predict_proba(Xte)[:,1]\n",
        "predict = np.where(predict >= optimal_threshold, 1, 0)\n",
        "\n",
        "fig, axes = plt.subplots(figsize=(8,6))\n",
        "\n",
        "cm = confusion_matrix(yte, predict).T\n",
        "cm = cm.astype('float')/cm.sum(axis=0)\n",
        "\n",
        "ax = sns.heatmap(cm, annot=True, cmap='YlGnBu')\n",
        "ax.set_xlabel('True Value')\n",
        "ax.set_ylabel('Predicted Value')\n",
        "ax.axis('equal')"
      ],
      "execution_count": 0,
      "outputs": [
        {
          "output_type": "execute_result",
          "data": {
            "text/plain": [
              "(0.0, 2.0, 2.0, 0.0)"
            ]
          },
          "metadata": {
            "tags": []
          },
          "execution_count": 68
        },
        {
          "output_type": "display_data",
          "data": {
            "image/png": "[encoded data removed]",
            "text/plain": [
              "<Figure size 576x432 with 2 Axes>"
            ]
          },
          "metadata": {
            "tags": [],
            "needs_background": "light"
          }
        }
      ]
    },
    {
      "metadata": {
        "_uuid": "5e558db09965f2db24ce9803ab6b391bb7197067",
        "colab_type": "text",
        "id": "xr-GGpCyAwer"
      },
      "cell_type": "markdown",
      "source": [
        "That's great! The optimum threshold for the classifier have increased out models prediction power of Default (0). Even now the model doesn't provide a lot of prediction power and we have to train the model again using a different algorithm with some tweaks.\n",
        "\n",
        "### Part2 : Balancing the training dataset and creating a new model\n",
        "Now we will try to use a balanced dataset with equal amount of zeroes and 1's. The following part does the same."
      ]
    },
    {
      "metadata": {
        "_uuid": "8cecfe0df1f91c1d817a2cf5b4c5f31f1b289a0f",
        "colab_type": "code",
        "id": "_o2kLW2KAweu",
        "colab": {}
      },
      "cell_type": "code",
      "source": [
        "y_default = traindata[traindata['loan_status'] == 0]\n",
        "n_paid = traindata[traindata['loan_status'] == 1].sample(n=len(y_default), random_state=17) # chosing equal amount of 1's\n",
        "\n",
        "# creating a new dataframe for balanced set\n",
        "data = y_default.append(n_paid) \n",
        "\n",
        "# creating the independent and dependent array\n",
        "Xbal = data.drop('loan_status', axis=1)\n",
        "ybal = data['loan_status']"
      ],
      "execution_count": 0,
      "outputs": []
    },
    {
      "metadata": {
        "_uuid": "63c260225ccf449bac76c0a67d2abf28ece6f47d",
        "colab_type": "code",
        "id": "A8eXTi8uAwex",
        "colab": {}
      },
      "cell_type": "code",
      "source": [
        "# scaling it again\n",
        "numerical = Xbal.columns[(Xbal.dtypes == 'float64') | (Xbal.dtypes == 'int64')].tolist()\n",
        "Xbal[numerical] = sc.fit_transform(Xbal[numerical])"
      ],
      "execution_count": 0,
      "outputs": []
    },
    {
      "metadata": {
        "_uuid": "05aacadda078a27ef7bb160eceaece728c5432b3",
        "colab_type": "text",
        "id": "pgnmJDxOAwe1"
      },
      "cell_type": "markdown",
      "source": [
        "Training the model on the balanced set"
      ]
    },
    {
      "metadata": {
        "_uuid": "575442e119d9f4600768f2f982a7ad35e3989112",
        "colab_type": "code",
        "id": "ypnC9BppAwe3",
        "outputId": "b1e8bd71-460a-475b-b684-d9df6701f033",
        "colab": {}
      },
      "cell_type": "code",
      "source": [
        "from sklearn.discriminant_analysis import LinearDiscriminantAnalysis\n",
        "from sklearn.ensemble import RandomForestClassifier\n",
        "from sklearn.linear_model import LogisticRegression\n",
        "from sklearn.naive_bayes import MultinomialNB\n",
        "\n",
        "models = {'LDA': LinearDiscriminantAnalysis(),\n",
        "          'MNB': MultinomialNB(),\n",
        "          'RF': RandomForestClassifier(n_estimators=100),\n",
        "          'LR': LogisticRegression(C=1)}\n",
        "\n",
        "balset = {}\n",
        "for i in models.keys():\n",
        "    scores = cross_val_score(models[i], Xbal - np.min(Xbal) + 1,\n",
        "                                    ybal, scoring='roc_auc', cv=3)\n",
        "    balset[i] = scores\n",
        "    print(i, scores, np.mean(scores))"
      ],
      "execution_count": 0,
      "outputs": [
        {
          "output_type": "stream",
          "text": [
            "/Users/claireleannesaunders/anaconda3/lib/python3.7/site-packages/sklearn/discriminant_analysis.py:388: UserWarning: Variables are collinear.\n",
            "  warnings.warn(\"Variables are collinear.\")\n",
            "/Users/claireleannesaunders/anaconda3/lib/python3.7/site-packages/sklearn/discriminant_analysis.py:388: UserWarning: Variables are collinear.\n",
            "  warnings.warn(\"Variables are collinear.\")\n",
            "/Users/claireleannesaunders/anaconda3/lib/python3.7/site-packages/sklearn/discriminant_analysis.py:388: UserWarning: Variables are collinear.\n",
            "  warnings.warn(\"Variables are collinear.\")\n"
          ],
          "name": "stderr"
        },
        {
          "output_type": "stream",
          "text": [
            "LDA [0.69464012 0.70130022 0.69650983] 0.6974833900111825\n",
            "MNB [0.68770514 0.69223586 0.68904917] 0.6896633859895305\n",
            "RF [0.67215822 0.67331161 0.66824151] 0.671237112728265\n"
          ],
          "name": "stdout"
        },
        {
          "output_type": "stream",
          "text": [
            "/Users/claireleannesaunders/anaconda3/lib/python3.7/site-packages/sklearn/linear_model/logistic.py:433: FutureWarning: Default solver will be changed to 'lbfgs' in 0.22. Specify a solver to silence this warning.\n",
            "  FutureWarning)\n",
            "/Users/claireleannesaunders/anaconda3/lib/python3.7/site-packages/sklearn/linear_model/logistic.py:433: FutureWarning: Default solver will be changed to 'lbfgs' in 0.22. Specify a solver to silence this warning.\n",
            "  FutureWarning)\n",
            "/Users/claireleannesaunders/anaconda3/lib/python3.7/site-packages/sklearn/linear_model/logistic.py:433: FutureWarning: Default solver will be changed to 'lbfgs' in 0.22. Specify a solver to silence this warning.\n",
            "  FutureWarning)\n"
          ],
          "name": "stderr"
        },
        {
          "output_type": "stream",
          "text": [
            "LR [0.69468578 0.70130559 0.69655863] 0.6975166660896145\n"
          ],
          "name": "stdout"
        }
      ]
    },
    {
      "metadata": {
        "_uuid": "5194dd76806fd2919b89e28c82980d12c70d682f",
        "colab_type": "text",
        "id": "k31DUjzVAwe7"
      },
      "cell_type": "markdown",
      "source": [
        "Even though we almost got the same result as before, This time we are going to select Random Forst method and will try to find the optimal number of trees using the gridsearchcv and try to make the predition based on this and lets see if there is any improvements in predicting 0's"
      ]
    },
    {
      "metadata": {
        "_uuid": "ec1c3d8c3ecefadd605ecc2c7f5c26ba045e1f77",
        "colab_type": "code",
        "id": "eiOS1gHYAwe9",
        "colab": {}
      },
      "cell_type": "code",
      "source": [
        "model = RandomForestClassifier(n_estimators=100)\n",
        "model.fit(Xbal, ybal)\n",
        "predict = model.predict(Xte)"
      ],
      "execution_count": 0,
      "outputs": []
    },
    {
      "metadata": {
        "_uuid": "5cff0b66d3f72afa044bb6905e5b54601905bbdc",
        "colab_type": "code",
        "id": "-F3xVuVbAwfB",
        "outputId": "68c87594-a411-4af3-a7db-56cf073eea31",
        "colab": {}
      },
      "cell_type": "code",
      "source": [
        "predict = model.predict(Xte)\n",
        "fig, axes = plt.subplots(figsize=(8,6))\n",
        "cm = confusion_matrix(yte, predict).T\n",
        "cm = cm.astype('float')/cm.sum(axis=0)\n",
        "ax = sns.heatmap(cm, annot=True, cmap='YlGnBu')\n",
        "ax.set_xlabel('True Label')\n",
        "ax.set_ylabel('Predicted Label')\n",
        "ax.axis('equal')"
      ],
      "execution_count": 0,
      "outputs": [
        {
          "output_type": "execute_result",
          "data": {
            "text/plain": [
              "(0.0, 2.0, 2.0, 0.0)"
            ]
          },
          "metadata": {
            "tags": []
          },
          "execution_count": 65
        },
        {
          "output_type": "display_data",
          "data": {
            "image/png": "[encoded data removed]",
            "text/plain": [
              "<Figure size 576x432 with 2 Axes>"
            ]
          },
          "metadata": {
            "tags": [],
            "needs_background": "light"
          }
        }
      ]
    },
    {
      "metadata": {
        "_uuid": "d1397571a6bc0c582acc24dbee51684f42dcc389",
        "colab_type": "text",
        "id": "I-V4ptgcAwfC"
      },
      "cell_type": "markdown",
      "source": [
        "That's a significant improvement over the last model that we built using Logistic regression. \n",
        "\n",
        "Let's find the optimum number of estimators for this model and use that for prediction. This time we are going to use 5 fold cross validation."
      ]
    },
    {
      "metadata": {
        "_uuid": "6104aa0cc70042d8270b7b9113fb03fce0214deb",
        "colab_type": "code",
        "id": "rSBfP8SBAwfD",
        "outputId": "4a9a8e04-4f6b-493e-b127-3a603093b981",
        "colab": {}
      },
      "cell_type": "code",
      "source": [
        "params = {'n_estimators': [50, 100, 200, 400, 600, 800]}\n",
        "grid_search = GridSearchCV(RandomForestClassifier(), param_grid=params,\n",
        "                                   scoring='accuracy', cv=5, n_jobs=-1)\n",
        "grid_search.fit(Xbal, ybal)\n",
        "print(grid_search.best_params_)\n",
        "print(grid_search.best_score_)"
      ],
      "execution_count": 0,
      "outputs": [
        {
          "output_type": "stream",
          "text": [
            "{'n_estimators': 600}\n",
            "0.6287661406025825\n"
          ],
          "name": "stdout"
        }
      ]
    },
    {
      "metadata": {
        "_uuid": "395d1f31bb266db3773da54b8aa54e519c83b912",
        "colab_type": "text",
        "id": "uMsJbbb8AwfF"
      },
      "cell_type": "markdown",
      "source": [
        "The best model has 600 trees"
      ]
    },
    {
      "metadata": {
        "_uuid": "0078385c156d244f8ddb87e2471f99c92be625e6",
        "colab_type": "code",
        "id": "-lhrs76pAwfF",
        "colab": {}
      },
      "cell_type": "code",
      "source": [
        "#r = pd.DataFrame()\n",
        "#r['x'] = [i for i in params.values()][0]\n",
        "#r['y'] = [i[1] for i in grid_search.cv_results_]\n",
        "#ax = r.plot(x='x', y='y', legend=False, linestyle='-', marker='o', figsize=(8,6))\n",
        "#ax.set_xlabel('n_estimators')\n",
        "#ax.set_ylabel('5-Fold Cross-Validation Score')"
      ],
      "execution_count": 0,
      "outputs": []
    },
    {
      "metadata": {
        "_uuid": "19635eaf425ec966395a507ed6b67b378aee80bb",
        "colab_type": "text",
        "id": "AgQFv6svAwfH"
      },
      "cell_type": "markdown",
      "source": [
        "As we can see, the score increases as we increase the number of estimators till 600 and then falls for 800 number of estimators.\n",
        "\n",
        "We will use this to estimate to fit the model."
      ]
    },
    {
      "metadata": {
        "_uuid": "876151695cc7a1b478b0d23418e132eb0bdbd074",
        "colab_type": "code",
        "id": "jmHLNKm6AwfI",
        "colab": {}
      },
      "cell_type": "code",
      "source": [
        "grid_search.best_estimator_.fit(Xbal, ybal)\n",
        "predict = model.predict(Xte)"
      ],
      "execution_count": 0,
      "outputs": []
    },
    {
      "metadata": {
        "_uuid": "b54f210b4401300e315787eb13493df780b697d8",
        "colab_type": "code",
        "id": "mj2iTpcYAwfJ",
        "outputId": "057368f9-08fe-4c13-e835-be2aff76b432",
        "colab": {}
      },
      "cell_type": "code",
      "source": [
        "fig, axes = plt.subplots(figsize=(8,6))\n",
        "cm = confusion_matrix(yte, predict).T\n",
        "cm = cm.astype('float')/cm.sum(axis=0)\n",
        "ax = sns.heatmap(cm, annot=True, cmap='YlGnBu')\n",
        "ax.set_xlabel('True Label')\n",
        "ax.set_ylabel('Predicted Label')\n",
        "ax.axis('equal')"
      ],
      "execution_count": 0,
      "outputs": [
        {
          "output_type": "execute_result",
          "data": {
            "text/plain": [
              "(0.0, 2.0, 2.0, 0.0)"
            ]
          },
          "metadata": {
            "tags": []
          },
          "execution_count": 67
        },
        {
          "output_type": "display_data",
          "data": {
            "image/png": "[encoded data removed]",
            "text/plain": [
              "<Figure size 576x432 with 2 Axes>"
            ]
          },
          "metadata": {
            "tags": [],
            "needs_background": "light"
          }
        }
      ]
    },
    {
      "metadata": {
        "_uuid": "91c596adddbbf2aaf5d836267cde7f0420f4bacb",
        "colab_type": "text",
        "id": "GCPMPk5LAwfN"
      },
      "cell_type": "markdown",
      "source": [
        "Interestingly, this gives us the same output as the previous model. Even now we have a good accuracy of 71% predicting defaluter's as defaulter's.\n",
        "\n",
        "Since random forest is based on decision trees, we can also plot the variable importance. Variable importance tells us which variable had highest importance when predicting an outcome."
      ]
    },
    {
      "metadata": {
        "_uuid": "bc89aa836d66b49b23630e0374da1f6b7b5cfc89",
        "colab_type": "code",
        "id": "sdkHiWLIAwfN",
        "outputId": "846d6b2b-a764-479d-f376-fc0ffcb53ebc",
        "colab": {}
      },
      "cell_type": "code",
      "source": [
        "r = pd.DataFrame(columns=['Feature','Importance'])\n",
        "ncomp = 15\n",
        "r['Feature'] = feat_labels = Xbal.columns\n",
        "r['Importance'] = model.feature_importances_\n",
        "r.set_index(r['Feature'], inplace=True)\n",
        "ax = r.sort_values('Importance', ascending=False)[:ncomp].plot.bar(width=0.9, legend=False, figsize=(15,8))\n",
        "ax.set_ylabel('Relative Importance')"
      ],
      "execution_count": 0,
      "outputs": [
        {
          "output_type": "execute_result",
          "data": {
            "text/plain": [
              "Text(0, 0.5, 'Relative Importance')"
            ]
          },
          "metadata": {
            "tags": []
          },
          "execution_count": 46
        },
        {
          "output_type": "display_data",
          "data": {
            "image/png": "[encoded data removed]",
            "text/plain": [
              "<Figure size 1080x576 with 1 Axes>"
            ]
          },
          "metadata": {
            "tags": [],
            "needs_background": "light"
          }
        }
      ]
    },
    {
      "metadata": {
        "_uuid": "c8064b1d65ebd73d39bf0540b57fd48dfa210ae3",
        "colab_type": "text",
        "id": "8l98P5xEAwfP"
      },
      "cell_type": "markdown",
      "source": [
        "As you can see, interest rate followed by debt to income ratio,annual income, and loan amount are the most important features in predicting the defaulter's. Lending Club might want to use this as the metric for identifying people defaulting on their loans. "
      ]
    },
    {
      "metadata": {
        "_uuid": "3f9062356bc85ef165a503758173dbb2d876c037",
        "colab_type": "text",
        "id": "m66Fxcw4AwfQ"
      },
      "cell_type": "markdown",
      "source": [
        "### Conclusion\n",
        "We have successfully built an machine learning algorithm to predict the people who might default on their loans. This can be further used by LendingClub for their analysis. Also, we might want to look on other techniques or variables to improve the prediction power of the algorthm. One of the drawbacks is just the limited number of people who defaulted on their loan in the 8 years of data (2007-2015) present in the dataset. We can use an updated dataframe which forecasts the next 3 years values (2015-2018) and see how many of the current loans were paid off or defaulted or even charged off. Then these new data points can be used for predicting them or even used to train the model again to improve its accuracy.\n",
        "\n",
        "Since we had a lot of categorical data, we cannot apply PCA for dimensionality reduction. Because of this, we can try some different type of variable selection method like 'MULTIPLE CORRESPONDENCE ANALYSIS' to reduce the dimensionality and select the most important variables from the columns.\n",
        "\n",
        "Since the algorithm puts around 47% of non-defaulters in the default class, we might want to look further into this issue to make the model more robust."
      ]
    }
  ]
}